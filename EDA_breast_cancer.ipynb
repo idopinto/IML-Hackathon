{
 "cells": [
  {
   "cell_type": "code",
   "execution_count": 2,
   "metadata": {
    "collapsed": true
   },
   "outputs": [],
   "source": [
    "import numpy as np\n",
    "import pandas as pd\n",
    "from matplotlib import pyplot as plt\n",
    "from sklearn.model_selection import train_test_split\n"
   ]
  },
  {
   "cell_type": "code",
   "execution_count": 7,
   "outputs": [
    {
     "data": {
      "text/plain": "          h_booking_id     booking_datetime         checkin_date  \\\n0 -9223194055642672935  2018-06-28 21:15:00  2018-07-09 00:00:00   \n1 -9222713784330706132  2018-08-10 22:31:00  2018-08-16 00:00:00   \n2 -9222411208325704942  2018-09-14 07:55:00  2018-09-14 00:00:00   \n3 -9222220845872895471  2018-06-25 07:33:00  2018-07-02 00:00:00   \n4 -9221127186162682116  2018-07-23 10:06:00  2018-08-09 00:00:00   \n5 -9220467519202693449  2018-05-03 09:25:00  2018-08-21 00:00:00   \n6 -9220037355644368516  2018-08-15 02:10:00  2018-08-18 00:00:00   \n7 -9219746746155641867  2018-07-11 20:41:00  2018-08-03 00:00:00   \n8 -9219730436418354424  2018-04-06 21:19:00  2018-07-22 00:00:00   \n9 -9219588530948048517  2018-07-28 05:39:00  2018-07-28 00:00:00   \n\n         checkout_date  hotel_id hotel_country_code      hotel_live_date  \\\n0  2018-07-13 00:00:00      6452                 HK  2009-06-28 02:02:00   \n1  2018-08-17 00:00:00     47729                 CN  2011-06-07 11:52:00   \n2  2018-09-15 00:00:00    780431                 KR  2014-11-20 15:43:00   \n3  2018-07-03 00:00:00    291365                 JP  2011-11-21 12:27:00   \n4  2018-08-10 00:00:00    479046                 TH  2013-06-06 10:04:00   \n5  2018-08-23 00:00:00     59272                 PF  2014-01-16 08:03:00   \n6  2018-08-19 00:00:00    400966                 TH  2012-10-15 11:45:00   \n7  2018-08-06 00:00:00     69287                 JP  2009-11-04 08:07:00   \n8  2018-07-23 00:00:00   2973895                 ID  2017-10-12 10:58:00   \n9  2018-07-29 00:00:00   1120617                 TH  2015-11-13 16:18:00   \n\n   hotel_star_rating accommadation_type_name charge_option  ...  \\\n0                4.0                   Hotel       Pay Now  ...   \n1                4.0                   Hotel     Pay Later  ...   \n2                4.0                   Hotel       Pay Now  ...   \n3                3.0                   Hotel     Pay Later  ...   \n4                3.0                  Resort     Pay Later  ...   \n5                3.0                  Resort     Pay Later  ...   \n6                3.5      Serviced Apartment       Pay Now  ...   \n7                3.5                   Hotel     Pay Later  ...   \n8                4.0                   Hotel       Pay Now  ...   \n9                3.0                   Hotel       Pay Now  ...   \n\n   request_highfloor request_largebed  request_twinbeds request_airport  \\\n0                NaN              NaN               NaN             NaN   \n1                0.0              0.0               1.0             0.0   \n2                0.0              0.0               0.0             0.0   \n3                0.0              1.0               0.0             0.0   \n4                0.0              1.0               0.0             0.0   \n5                NaN              NaN               NaN             NaN   \n6                NaN              NaN               NaN             NaN   \n7                0.0              1.0               0.0             0.0   \n8                NaN              NaN               NaN             NaN   \n9                0.0              0.0               0.0             0.0   \n\n   request_earlycheckin  cancellation_datetime  hotel_area_code  \\\n0                   NaN                    NaN             1192   \n1                   0.0                    NaN             5617   \n2                   0.0                    NaN             3819   \n3                   0.0                    NaN             2379   \n4                   0.0             2018-07-23             1506   \n5                   NaN             2018-05-03             3146   \n6                   NaN                    NaN             1703   \n7                   0.0             2018-07-23             3959   \n8                   NaN                    NaN              744   \n9                   0.0                    NaN             2663   \n\n   hotel_brand_code hotel_chain_code hotel_city_code  \n0               NaN              NaN             142  \n1             902.0            600.0            1273  \n2               NaN              NaN            2799  \n3             466.0            236.0            1448  \n4               NaN              NaN             616  \n5               NaN              NaN            1309  \n6               NaN              NaN            2477  \n7               NaN              NaN            2249  \n8              10.0            297.0              88  \n9               NaN              NaN            2477  \n\n[10 rows x 39 columns]",
      "text/html": "<div>\n<style scoped>\n    .dataframe tbody tr th:only-of-type {\n        vertical-align: middle;\n    }\n\n    .dataframe tbody tr th {\n        vertical-align: top;\n    }\n\n    .dataframe thead th {\n        text-align: right;\n    }\n</style>\n<table border=\"1\" class=\"dataframe\">\n  <thead>\n    <tr style=\"text-align: right;\">\n      <th></th>\n      <th>h_booking_id</th>\n      <th>booking_datetime</th>\n      <th>checkin_date</th>\n      <th>checkout_date</th>\n      <th>hotel_id</th>\n      <th>hotel_country_code</th>\n      <th>hotel_live_date</th>\n      <th>hotel_star_rating</th>\n      <th>accommadation_type_name</th>\n      <th>charge_option</th>\n      <th>...</th>\n      <th>request_highfloor</th>\n      <th>request_largebed</th>\n      <th>request_twinbeds</th>\n      <th>request_airport</th>\n      <th>request_earlycheckin</th>\n      <th>cancellation_datetime</th>\n      <th>hotel_area_code</th>\n      <th>hotel_brand_code</th>\n      <th>hotel_chain_code</th>\n      <th>hotel_city_code</th>\n    </tr>\n  </thead>\n  <tbody>\n    <tr>\n      <th>0</th>\n      <td>-9223194055642672935</td>\n      <td>2018-06-28 21:15:00</td>\n      <td>2018-07-09 00:00:00</td>\n      <td>2018-07-13 00:00:00</td>\n      <td>6452</td>\n      <td>HK</td>\n      <td>2009-06-28 02:02:00</td>\n      <td>4.0</td>\n      <td>Hotel</td>\n      <td>Pay Now</td>\n      <td>...</td>\n      <td>NaN</td>\n      <td>NaN</td>\n      <td>NaN</td>\n      <td>NaN</td>\n      <td>NaN</td>\n      <td>NaN</td>\n      <td>1192</td>\n      <td>NaN</td>\n      <td>NaN</td>\n      <td>142</td>\n    </tr>\n    <tr>\n      <th>1</th>\n      <td>-9222713784330706132</td>\n      <td>2018-08-10 22:31:00</td>\n      <td>2018-08-16 00:00:00</td>\n      <td>2018-08-17 00:00:00</td>\n      <td>47729</td>\n      <td>CN</td>\n      <td>2011-06-07 11:52:00</td>\n      <td>4.0</td>\n      <td>Hotel</td>\n      <td>Pay Later</td>\n      <td>...</td>\n      <td>0.0</td>\n      <td>0.0</td>\n      <td>1.0</td>\n      <td>0.0</td>\n      <td>0.0</td>\n      <td>NaN</td>\n      <td>5617</td>\n      <td>902.0</td>\n      <td>600.0</td>\n      <td>1273</td>\n    </tr>\n    <tr>\n      <th>2</th>\n      <td>-9222411208325704942</td>\n      <td>2018-09-14 07:55:00</td>\n      <td>2018-09-14 00:00:00</td>\n      <td>2018-09-15 00:00:00</td>\n      <td>780431</td>\n      <td>KR</td>\n      <td>2014-11-20 15:43:00</td>\n      <td>4.0</td>\n      <td>Hotel</td>\n      <td>Pay Now</td>\n      <td>...</td>\n      <td>0.0</td>\n      <td>0.0</td>\n      <td>0.0</td>\n      <td>0.0</td>\n      <td>0.0</td>\n      <td>NaN</td>\n      <td>3819</td>\n      <td>NaN</td>\n      <td>NaN</td>\n      <td>2799</td>\n    </tr>\n    <tr>\n      <th>3</th>\n      <td>-9222220845872895471</td>\n      <td>2018-06-25 07:33:00</td>\n      <td>2018-07-02 00:00:00</td>\n      <td>2018-07-03 00:00:00</td>\n      <td>291365</td>\n      <td>JP</td>\n      <td>2011-11-21 12:27:00</td>\n      <td>3.0</td>\n      <td>Hotel</td>\n      <td>Pay Later</td>\n      <td>...</td>\n      <td>0.0</td>\n      <td>1.0</td>\n      <td>0.0</td>\n      <td>0.0</td>\n      <td>0.0</td>\n      <td>NaN</td>\n      <td>2379</td>\n      <td>466.0</td>\n      <td>236.0</td>\n      <td>1448</td>\n    </tr>\n    <tr>\n      <th>4</th>\n      <td>-9221127186162682116</td>\n      <td>2018-07-23 10:06:00</td>\n      <td>2018-08-09 00:00:00</td>\n      <td>2018-08-10 00:00:00</td>\n      <td>479046</td>\n      <td>TH</td>\n      <td>2013-06-06 10:04:00</td>\n      <td>3.0</td>\n      <td>Resort</td>\n      <td>Pay Later</td>\n      <td>...</td>\n      <td>0.0</td>\n      <td>1.0</td>\n      <td>0.0</td>\n      <td>0.0</td>\n      <td>0.0</td>\n      <td>2018-07-23</td>\n      <td>1506</td>\n      <td>NaN</td>\n      <td>NaN</td>\n      <td>616</td>\n    </tr>\n    <tr>\n      <th>5</th>\n      <td>-9220467519202693449</td>\n      <td>2018-05-03 09:25:00</td>\n      <td>2018-08-21 00:00:00</td>\n      <td>2018-08-23 00:00:00</td>\n      <td>59272</td>\n      <td>PF</td>\n      <td>2014-01-16 08:03:00</td>\n      <td>3.0</td>\n      <td>Resort</td>\n      <td>Pay Later</td>\n      <td>...</td>\n      <td>NaN</td>\n      <td>NaN</td>\n      <td>NaN</td>\n      <td>NaN</td>\n      <td>NaN</td>\n      <td>2018-05-03</td>\n      <td>3146</td>\n      <td>NaN</td>\n      <td>NaN</td>\n      <td>1309</td>\n    </tr>\n    <tr>\n      <th>6</th>\n      <td>-9220037355644368516</td>\n      <td>2018-08-15 02:10:00</td>\n      <td>2018-08-18 00:00:00</td>\n      <td>2018-08-19 00:00:00</td>\n      <td>400966</td>\n      <td>TH</td>\n      <td>2012-10-15 11:45:00</td>\n      <td>3.5</td>\n      <td>Serviced Apartment</td>\n      <td>Pay Now</td>\n      <td>...</td>\n      <td>NaN</td>\n      <td>NaN</td>\n      <td>NaN</td>\n      <td>NaN</td>\n      <td>NaN</td>\n      <td>NaN</td>\n      <td>1703</td>\n      <td>NaN</td>\n      <td>NaN</td>\n      <td>2477</td>\n    </tr>\n    <tr>\n      <th>7</th>\n      <td>-9219746746155641867</td>\n      <td>2018-07-11 20:41:00</td>\n      <td>2018-08-03 00:00:00</td>\n      <td>2018-08-06 00:00:00</td>\n      <td>69287</td>\n      <td>JP</td>\n      <td>2009-11-04 08:07:00</td>\n      <td>3.5</td>\n      <td>Hotel</td>\n      <td>Pay Later</td>\n      <td>...</td>\n      <td>0.0</td>\n      <td>1.0</td>\n      <td>0.0</td>\n      <td>0.0</td>\n      <td>0.0</td>\n      <td>2018-07-23</td>\n      <td>3959</td>\n      <td>NaN</td>\n      <td>NaN</td>\n      <td>2249</td>\n    </tr>\n    <tr>\n      <th>8</th>\n      <td>-9219730436418354424</td>\n      <td>2018-04-06 21:19:00</td>\n      <td>2018-07-22 00:00:00</td>\n      <td>2018-07-23 00:00:00</td>\n      <td>2973895</td>\n      <td>ID</td>\n      <td>2017-10-12 10:58:00</td>\n      <td>4.0</td>\n      <td>Hotel</td>\n      <td>Pay Now</td>\n      <td>...</td>\n      <td>NaN</td>\n      <td>NaN</td>\n      <td>NaN</td>\n      <td>NaN</td>\n      <td>NaN</td>\n      <td>NaN</td>\n      <td>744</td>\n      <td>10.0</td>\n      <td>297.0</td>\n      <td>88</td>\n    </tr>\n    <tr>\n      <th>9</th>\n      <td>-9219588530948048517</td>\n      <td>2018-07-28 05:39:00</td>\n      <td>2018-07-28 00:00:00</td>\n      <td>2018-07-29 00:00:00</td>\n      <td>1120617</td>\n      <td>TH</td>\n      <td>2015-11-13 16:18:00</td>\n      <td>3.0</td>\n      <td>Hotel</td>\n      <td>Pay Now</td>\n      <td>...</td>\n      <td>0.0</td>\n      <td>0.0</td>\n      <td>0.0</td>\n      <td>0.0</td>\n      <td>0.0</td>\n      <td>NaN</td>\n      <td>2663</td>\n      <td>NaN</td>\n      <td>NaN</td>\n      <td>2477</td>\n    </tr>\n  </tbody>\n</table>\n<p>10 rows × 39 columns</p>\n</div>"
     },
     "execution_count": 7,
     "metadata": {},
     "output_type": "execute_result"
    }
   ],
   "source": [
    "df = pd.read_csv(\"AgodaCancellationChallenge/agoda_cancellation_train.csv\")\n",
    "df.head(10)"
   ],
   "metadata": {
    "collapsed": false
   }
  },
  {
   "cell_type": "code",
   "execution_count": 4,
   "outputs": [
    {
     "data": {
      "text/plain": "Index([' Form Name', ' Hospital', 'User Name', 'אבחנה-Age',\n       'אבחנה-Basic stage', 'אבחנה-Diagnosis date', 'אבחנה-Her2',\n       'אבחנה-Histological diagnosis', 'אבחנה-Histopatological degree',\n       'אבחנה-Ivi -Lymphovascular invasion', 'אבחנה-KI67 protein',\n       'אבחנה-Lymphatic penetration', 'אבחנה-M -metastases mark (TNM)',\n       'אבחנה-Margin Type', 'אבחנה-N -lymph nodes mark (TNM)',\n       'אבחנה-Nodes exam', 'אבחנה-Positive nodes', 'אבחנה-Side', 'אבחנה-Stage',\n       'אבחנה-Surgery date1', 'אבחנה-Surgery date2', 'אבחנה-Surgery date3',\n       'אבחנה-Surgery name1', 'אבחנה-Surgery name2', 'אבחנה-Surgery name3',\n       'אבחנה-Surgery sum', 'אבחנה-T -Tumor mark (TNM)', 'אבחנה-Tumor depth',\n       'אבחנה-Tumor width', 'אבחנה-er', 'אבחנה-pr',\n       'surgery before or after-Activity date',\n       'surgery before or after-Actual activity',\n       'id-hushed_internalpatientid'],\n      dtype='object')"
     },
     "execution_count": 4,
     "metadata": {},
     "output_type": "execute_result"
    }
   ],
   "source": [
    "X_train, X_test, y_train, y_test = train_test_split(df[], y, test_size=0.33, random_state=42)"
   ],
   "metadata": {
    "collapsed": false
   }
  }
 ],
 "metadata": {
  "kernelspec": {
   "display_name": "Python 3",
   "language": "python",
   "name": "python3"
  },
  "language_info": {
   "codemirror_mode": {
    "name": "ipython",
    "version": 2
   },
   "file_extension": ".py",
   "mimetype": "text/x-python",
   "name": "python",
   "nbconvert_exporter": "python",
   "pygments_lexer": "ipython2",
   "version": "2.7.6"
  }
 },
 "nbformat": 4,
 "nbformat_minor": 0
}
