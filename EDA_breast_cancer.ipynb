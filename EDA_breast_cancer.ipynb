{
 "cells": [
  {
   "cell_type": "code",
   "execution_count": 2,
   "metadata": {
    "collapsed": true
   },
   "outputs": [],
   "source": [
    "import numpy as np\n",
    "import pandas as pd\n",
    "from matplotlib import pyplot as plt"
   ]
  },
  {
   "cell_type": "code",
   "execution_count": 3,
   "outputs": [
    {
     "name": "stderr",
     "output_type": "stream",
     "text": [
      "C:\\Users\\idop8\\anaconda3\\envs\\iml.env\\lib\\site-packages\\IPython\\core\\interactiveshell.py:3457: DtypeWarning: Columns (9,21,24) have mixed types.Specify dtype option on import or set low_memory=False.\n",
      "  exec(code_obj, self.user_global_ns, self.user_ns)\n"
     ]
    },
    {
     "data": {
      "text/plain": "                       Form Name   Hospital User Name  אבחנה-Age  \\\n0                   דיווח סיעודי       20.0  209_Onco  54.718724   \n1                   ביקור במרפאה       20.0   84_Onco  54.718724   \n2  אומדן סימפטומים ודיווח סיעודי       20.0  234_Onco  54.718724   \n3             ביקור במרפאה קרינה       20.0  226_Onco  54.718724   \n4  אומדן סימפטומים ודיווח סיעודי       20.0  210_Onco  54.718724   \n\n  אבחנה-Basic stage אבחנה-Diagnosis date אבחנה-Her2  \\\n0  p - Pathological     03/10/2018 16:38          1   \n1  p - Pathological     03/10/2018 16:38          1   \n2  p - Pathological     03/10/2018 16:38          1   \n3  p - Pathological     03/10/2018 16:38          1   \n4  p - Pathological     03/10/2018 16:38          1   \n\n  אבחנה-Histological diagnosis         אבחנה-Histopatological degree  \\\n0  INFILTRATING DUCT CARCINOMA  G2 - Modereately well differentiated   \n1  INFILTRATING DUCT CARCINOMA  G2 - Modereately well differentiated   \n2  INFILTRATING DUCT CARCINOMA  G2 - Modereately well differentiated   \n3  INFILTRATING DUCT CARCINOMA  G2 - Modereately well differentiated   \n4  INFILTRATING DUCT CARCINOMA  G2 - Modereately well differentiated   \n\n  אבחנה-Ivi -Lymphovascular invasion  ... אבחנה-Surgery name3  \\\n0                                NaN  ...                 NaN   \n1                                NaN  ...                 NaN   \n2                                NaN  ...                 NaN   \n3                                NaN  ...                 NaN   \n4                                NaN  ...                 NaN   \n\n  אבחנה-Surgery sum אבחנה-T -Tumor mark (TNM) אבחנה-Tumor depth  \\\n0               1.0                       NaN               NaN   \n1               1.0                       NaN               NaN   \n2               1.0                       NaN               NaN   \n3               1.0                       NaN               NaN   \n4               1.0                       NaN               NaN   \n\n  אבחנה-Tumor width  אבחנה-er  אבחנה-pr surgery before or after-Activity date  \\\n0               NaN      100%       70%                      15/07/2020 12:52   \n1               NaN      100%       70%                      15/07/2020 12:52   \n2               NaN      100%       70%                      15/07/2020 12:52   \n3               NaN      100%       70%                      15/07/2020 12:52   \n4               NaN      100%       70%                      15/07/2020 12:52   \n\n  surgery before or after-Actual activity  \\\n0                כיר-לאפ-הוצ טבעת/שנוי מי   \n1                כיר-לאפ-הוצ טבעת/שנוי מי   \n2                כיר-לאפ-הוצ טבעת/שנוי מי   \n3                כיר-לאפ-הוצ טבעת/שנוי מי   \n4                כיר-לאפ-הוצ טבעת/שנוי מי   \n\n                         id-hushed_internalpatientid  \n0  D76755B0E54637C6DD767695FB6A798F4C27024177FBA6...  \n1  D76755B0E54637C6DD767695FB6A798F4C27024177FBA6...  \n2  D76755B0E54637C6DD767695FB6A798F4C27024177FBA6...  \n3  D76755B0E54637C6DD767695FB6A798F4C27024177FBA6...  \n4  D76755B0E54637C6DD767695FB6A798F4C27024177FBA6...  \n\n[5 rows x 34 columns]",
      "text/html": "<div>\n<style scoped>\n    .dataframe tbody tr th:only-of-type {\n        vertical-align: middle;\n    }\n\n    .dataframe tbody tr th {\n        vertical-align: top;\n    }\n\n    .dataframe thead th {\n        text-align: right;\n    }\n</style>\n<table border=\"1\" class=\"dataframe\">\n  <thead>\n    <tr style=\"text-align: right;\">\n      <th></th>\n      <th>Form Name</th>\n      <th>Hospital</th>\n      <th>User Name</th>\n      <th>אבחנה-Age</th>\n      <th>אבחנה-Basic stage</th>\n      <th>אבחנה-Diagnosis date</th>\n      <th>אבחנה-Her2</th>\n      <th>אבחנה-Histological diagnosis</th>\n      <th>אבחנה-Histopatological degree</th>\n      <th>אבחנה-Ivi -Lymphovascular invasion</th>\n      <th>...</th>\n      <th>אבחנה-Surgery name3</th>\n      <th>אבחנה-Surgery sum</th>\n      <th>אבחנה-T -Tumor mark (TNM)</th>\n      <th>אבחנה-Tumor depth</th>\n      <th>אבחנה-Tumor width</th>\n      <th>אבחנה-er</th>\n      <th>אבחנה-pr</th>\n      <th>surgery before or after-Activity date</th>\n      <th>surgery before or after-Actual activity</th>\n      <th>id-hushed_internalpatientid</th>\n    </tr>\n  </thead>\n  <tbody>\n    <tr>\n      <th>0</th>\n      <td>דיווח סיעודי</td>\n      <td>20.0</td>\n      <td>209_Onco</td>\n      <td>54.718724</td>\n      <td>p - Pathological</td>\n      <td>03/10/2018 16:38</td>\n      <td>1</td>\n      <td>INFILTRATING DUCT CARCINOMA</td>\n      <td>G2 - Modereately well differentiated</td>\n      <td>NaN</td>\n      <td>...</td>\n      <td>NaN</td>\n      <td>1.0</td>\n      <td>NaN</td>\n      <td>NaN</td>\n      <td>NaN</td>\n      <td>100%</td>\n      <td>70%</td>\n      <td>15/07/2020 12:52</td>\n      <td>כיר-לאפ-הוצ טבעת/שנוי מי</td>\n      <td>D76755B0E54637C6DD767695FB6A798F4C27024177FBA6...</td>\n    </tr>\n    <tr>\n      <th>1</th>\n      <td>ביקור במרפאה</td>\n      <td>20.0</td>\n      <td>84_Onco</td>\n      <td>54.718724</td>\n      <td>p - Pathological</td>\n      <td>03/10/2018 16:38</td>\n      <td>1</td>\n      <td>INFILTRATING DUCT CARCINOMA</td>\n      <td>G2 - Modereately well differentiated</td>\n      <td>NaN</td>\n      <td>...</td>\n      <td>NaN</td>\n      <td>1.0</td>\n      <td>NaN</td>\n      <td>NaN</td>\n      <td>NaN</td>\n      <td>100%</td>\n      <td>70%</td>\n      <td>15/07/2020 12:52</td>\n      <td>כיר-לאפ-הוצ טבעת/שנוי מי</td>\n      <td>D76755B0E54637C6DD767695FB6A798F4C27024177FBA6...</td>\n    </tr>\n    <tr>\n      <th>2</th>\n      <td>אומדן סימפטומים ודיווח סיעודי</td>\n      <td>20.0</td>\n      <td>234_Onco</td>\n      <td>54.718724</td>\n      <td>p - Pathological</td>\n      <td>03/10/2018 16:38</td>\n      <td>1</td>\n      <td>INFILTRATING DUCT CARCINOMA</td>\n      <td>G2 - Modereately well differentiated</td>\n      <td>NaN</td>\n      <td>...</td>\n      <td>NaN</td>\n      <td>1.0</td>\n      <td>NaN</td>\n      <td>NaN</td>\n      <td>NaN</td>\n      <td>100%</td>\n      <td>70%</td>\n      <td>15/07/2020 12:52</td>\n      <td>כיר-לאפ-הוצ טבעת/שנוי מי</td>\n      <td>D76755B0E54637C6DD767695FB6A798F4C27024177FBA6...</td>\n    </tr>\n    <tr>\n      <th>3</th>\n      <td>ביקור במרפאה קרינה</td>\n      <td>20.0</td>\n      <td>226_Onco</td>\n      <td>54.718724</td>\n      <td>p - Pathological</td>\n      <td>03/10/2018 16:38</td>\n      <td>1</td>\n      <td>INFILTRATING DUCT CARCINOMA</td>\n      <td>G2 - Modereately well differentiated</td>\n      <td>NaN</td>\n      <td>...</td>\n      <td>NaN</td>\n      <td>1.0</td>\n      <td>NaN</td>\n      <td>NaN</td>\n      <td>NaN</td>\n      <td>100%</td>\n      <td>70%</td>\n      <td>15/07/2020 12:52</td>\n      <td>כיר-לאפ-הוצ טבעת/שנוי מי</td>\n      <td>D76755B0E54637C6DD767695FB6A798F4C27024177FBA6...</td>\n    </tr>\n    <tr>\n      <th>4</th>\n      <td>אומדן סימפטומים ודיווח סיעודי</td>\n      <td>20.0</td>\n      <td>210_Onco</td>\n      <td>54.718724</td>\n      <td>p - Pathological</td>\n      <td>03/10/2018 16:38</td>\n      <td>1</td>\n      <td>INFILTRATING DUCT CARCINOMA</td>\n      <td>G2 - Modereately well differentiated</td>\n      <td>NaN</td>\n      <td>...</td>\n      <td>NaN</td>\n      <td>1.0</td>\n      <td>NaN</td>\n      <td>NaN</td>\n      <td>NaN</td>\n      <td>100%</td>\n      <td>70%</td>\n      <td>15/07/2020 12:52</td>\n      <td>כיר-לאפ-הוצ טבעת/שנוי מי</td>\n      <td>D76755B0E54637C6DD767695FB6A798F4C27024177FBA6...</td>\n    </tr>\n  </tbody>\n</table>\n<p>5 rows × 34 columns</p>\n</div>"
     },
     "execution_count": 3,
     "metadata": {},
     "output_type": "execute_result"
    }
   ],
   "source": [
    "df = pd.read_csv(\"./BreastCancerChallenge/train.feats.csv\")\n",
    "df.head()"
   ],
   "metadata": {
    "collapsed": false
   }
  },
  {
   "cell_type": "code",
   "execution_count": 4,
   "outputs": [
    {
     "data": {
      "text/plain": "Index([' Form Name', ' Hospital', 'User Name', 'אבחנה-Age',\n       'אבחנה-Basic stage', 'אבחנה-Diagnosis date', 'אבחנה-Her2',\n       'אבחנה-Histological diagnosis', 'אבחנה-Histopatological degree',\n       'אבחנה-Ivi -Lymphovascular invasion', 'אבחנה-KI67 protein',\n       'אבחנה-Lymphatic penetration', 'אבחנה-M -metastases mark (TNM)',\n       'אבחנה-Margin Type', 'אבחנה-N -lymph nodes mark (TNM)',\n       'אבחנה-Nodes exam', 'אבחנה-Positive nodes', 'אבחנה-Side', 'אבחנה-Stage',\n       'אבחנה-Surgery date1', 'אבחנה-Surgery date2', 'אבחנה-Surgery date3',\n       'אבחנה-Surgery name1', 'אבחנה-Surgery name2', 'אבחנה-Surgery name3',\n       'אבחנה-Surgery sum', 'אבחנה-T -Tumor mark (TNM)', 'אבחנה-Tumor depth',\n       'אבחנה-Tumor width', 'אבחנה-er', 'אבחנה-pr',\n       'surgery before or after-Activity date',\n       'surgery before or after-Actual activity',\n       'id-hushed_internalpatientid'],\n      dtype='object')"
     },
     "execution_count": 4,
     "metadata": {},
     "output_type": "execute_result"
    }
   ],
   "source": [
    "df.columns"
   ],
   "metadata": {
    "collapsed": false
   }
  }
 ],
 "metadata": {
  "kernelspec": {
   "display_name": "Python 3",
   "language": "python",
   "name": "python3"
  },
  "language_info": {
   "codemirror_mode": {
    "name": "ipython",
    "version": 2
   },
   "file_extension": ".py",
   "mimetype": "text/x-python",
   "name": "python",
   "nbconvert_exporter": "python",
   "pygments_lexer": "ipython2",
   "version": "2.7.6"
  }
 },
 "nbformat": 4,
 "nbformat_minor": 0
}
