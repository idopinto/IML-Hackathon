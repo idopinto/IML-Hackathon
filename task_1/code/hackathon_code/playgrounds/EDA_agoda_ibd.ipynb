{
 "cells": [
  {
   "cell_type": "code",
   "execution_count": 1,
   "metadata": {
    "collapsed": true,
    "ExecuteTime": {
     "start_time": "2023-06-08T15:38:24.994079Z",
     "end_time": "2023-06-08T15:38:32.017293Z"
    }
   },
   "outputs": [],
   "source": [
    "import numpy as np\n",
    "import pandas as pd\n",
    "from matplotlib import pyplot as plt\n",
    "from sklearn.model_selection import train_test_split\n",
    "from ydata_profiling import ProfileReport\n",
    "from task_1.code.hackathon_code.Utils.pp import preprocess\n",
    "# from task_1.code.hackathon_code.Utils.utils import load_data\n"
   ]
  },
  {
   "cell_type": "code",
   "execution_count": 2,
   "outputs": [],
   "source": [
    "def load_data(filename):\n",
    "    dates_to_parse = [\"booking_datetime\", \"checkin_date\",\n",
    "                       \"checkout_date\", \"hotel_live_date\", \"cancellation_datetime\"]\n",
    "    df = pd.read_csv(filename, parse_dates=dates_to_parse)\n",
    "    return df"
   ],
   "metadata": {
    "collapsed": false,
    "ExecuteTime": {
     "start_time": "2023-06-08T15:38:31.958453Z",
     "end_time": "2023-06-08T15:38:32.023277Z"
    }
   }
  },
  {
   "cell_type": "code",
   "execution_count": 3,
   "outputs": [
    {
     "data": {
      "text/plain": "   booking_datetime  checkin_date  checkout_date  hotel_id  \\\n0               294           212            213     88838   \n1               222           222            223     51920   \n2               257           257            258     90189   \n3               256           256            257    236389   \n4                32           243            245    187085   \n\n   hotel_country_code     hotel_live_date  hotel_star_rating  \\\n0                   5 2012-10-04 10:03:00                4.0   \n1                  57 2012-10-01 10:03:00                3.0   \n2                 114 2014-06-12 08:05:00                4.0   \n3                 113 2010-08-31 07:16:00                0.0   \n4                  57 2010-07-01 07:38:00                3.5   \n\n   accommadation_type_name charge_option customer_nationality  ...  \\\n0                       16       Pay Now                China  ...   \n1                       10       Pay Now                Japan  ...   \n2                       10       Pay Now               Taiwan  ...   \n3                        5       Pay Now               Turkey  ...   \n4                       10     Pay Later          South Korea  ...   \n\n   hotel_brand_code hotel_chain_code  hotel_city_code  cancellation_datetime  \\\n0              50.0            675.0              461                    NaT   \n1             296.0            191.0             2249                    NaT   \n2               NaN              NaN              892                    NaT   \n3               NaN              NaN              744                    NaT   \n4             453.0            359.0             2260             2018-02-02   \n\n   distance_booking_checkin  amount_guests amount_nights  \\\n0                       282             12             1   \n1                         0              1             1   \n2                         0              2             1   \n3                         0              1             1   \n4                       210              1             2   \n\n   price_per_guest_per_night  costumer_guest_same_nation pay_now  \n0                  36.376667                        True    True  \n1                  54.010000                        True    True  \n2                  49.590000                        True    True  \n3                  19.360000                        True    True  \n4                  87.760000                        True   False  \n\n[5 rows x 43 columns]",
      "text/html": "<div>\n<style scoped>\n    .dataframe tbody tr th:only-of-type {\n        vertical-align: middle;\n    }\n\n    .dataframe tbody tr th {\n        vertical-align: top;\n    }\n\n    .dataframe thead th {\n        text-align: right;\n    }\n</style>\n<table border=\"1\" class=\"dataframe\">\n  <thead>\n    <tr style=\"text-align: right;\">\n      <th></th>\n      <th>booking_datetime</th>\n      <th>checkin_date</th>\n      <th>checkout_date</th>\n      <th>hotel_id</th>\n      <th>hotel_country_code</th>\n      <th>hotel_live_date</th>\n      <th>hotel_star_rating</th>\n      <th>accommadation_type_name</th>\n      <th>charge_option</th>\n      <th>customer_nationality</th>\n      <th>...</th>\n      <th>hotel_brand_code</th>\n      <th>hotel_chain_code</th>\n      <th>hotel_city_code</th>\n      <th>cancellation_datetime</th>\n      <th>distance_booking_checkin</th>\n      <th>amount_guests</th>\n      <th>amount_nights</th>\n      <th>price_per_guest_per_night</th>\n      <th>costumer_guest_same_nation</th>\n      <th>pay_now</th>\n    </tr>\n  </thead>\n  <tbody>\n    <tr>\n      <th>0</th>\n      <td>294</td>\n      <td>212</td>\n      <td>213</td>\n      <td>88838</td>\n      <td>5</td>\n      <td>2012-10-04 10:03:00</td>\n      <td>4.0</td>\n      <td>16</td>\n      <td>Pay Now</td>\n      <td>China</td>\n      <td>...</td>\n      <td>50.0</td>\n      <td>675.0</td>\n      <td>461</td>\n      <td>NaT</td>\n      <td>282</td>\n      <td>12</td>\n      <td>1</td>\n      <td>36.376667</td>\n      <td>True</td>\n      <td>True</td>\n    </tr>\n    <tr>\n      <th>1</th>\n      <td>222</td>\n      <td>222</td>\n      <td>223</td>\n      <td>51920</td>\n      <td>57</td>\n      <td>2012-10-01 10:03:00</td>\n      <td>3.0</td>\n      <td>10</td>\n      <td>Pay Now</td>\n      <td>Japan</td>\n      <td>...</td>\n      <td>296.0</td>\n      <td>191.0</td>\n      <td>2249</td>\n      <td>NaT</td>\n      <td>0</td>\n      <td>1</td>\n      <td>1</td>\n      <td>54.010000</td>\n      <td>True</td>\n      <td>True</td>\n    </tr>\n    <tr>\n      <th>2</th>\n      <td>257</td>\n      <td>257</td>\n      <td>258</td>\n      <td>90189</td>\n      <td>114</td>\n      <td>2014-06-12 08:05:00</td>\n      <td>4.0</td>\n      <td>10</td>\n      <td>Pay Now</td>\n      <td>Taiwan</td>\n      <td>...</td>\n      <td>NaN</td>\n      <td>NaN</td>\n      <td>892</td>\n      <td>NaT</td>\n      <td>0</td>\n      <td>2</td>\n      <td>1</td>\n      <td>49.590000</td>\n      <td>True</td>\n      <td>True</td>\n    </tr>\n    <tr>\n      <th>3</th>\n      <td>256</td>\n      <td>256</td>\n      <td>257</td>\n      <td>236389</td>\n      <td>113</td>\n      <td>2010-08-31 07:16:00</td>\n      <td>0.0</td>\n      <td>5</td>\n      <td>Pay Now</td>\n      <td>Turkey</td>\n      <td>...</td>\n      <td>NaN</td>\n      <td>NaN</td>\n      <td>744</td>\n      <td>NaT</td>\n      <td>0</td>\n      <td>1</td>\n      <td>1</td>\n      <td>19.360000</td>\n      <td>True</td>\n      <td>True</td>\n    </tr>\n    <tr>\n      <th>4</th>\n      <td>32</td>\n      <td>243</td>\n      <td>245</td>\n      <td>187085</td>\n      <td>57</td>\n      <td>2010-07-01 07:38:00</td>\n      <td>3.5</td>\n      <td>10</td>\n      <td>Pay Later</td>\n      <td>South Korea</td>\n      <td>...</td>\n      <td>453.0</td>\n      <td>359.0</td>\n      <td>2260</td>\n      <td>2018-02-02</td>\n      <td>210</td>\n      <td>1</td>\n      <td>2</td>\n      <td>87.760000</td>\n      <td>True</td>\n      <td>False</td>\n    </tr>\n  </tbody>\n</table>\n<p>5 rows × 43 columns</p>\n</div>"
     },
     "execution_count": 3,
     "metadata": {},
     "output_type": "execute_result"
    }
   ],
   "source": [
    "\n",
    "df = load_data(\"../Datasets/train_set_agoda.csv\")\n",
    "X, y = preprocess(df)\n",
    "\n",
    "X.head()\n",
    "# y.head()"
   ],
   "metadata": {
    "collapsed": false,
    "ExecuteTime": {
     "start_time": "2023-06-08T15:38:31.991364Z",
     "end_time": "2023-06-08T15:38:33.484430Z"
    }
   }
  },
  {
   "cell_type": "code",
   "execution_count": 4,
   "outputs": [
    {
     "data": {
      "text/plain": "Summarize dataset:   0%|          | 0/5 [00:00<?, ?it/s]",
      "application/vnd.jupyter.widget-view+json": {
       "version_major": 2,
       "version_minor": 0,
       "model_id": "e862fc53971e4c42bd004012757e4a00"
      },
      "application/json": {
       "n": 0,
       "total": 5,
       "elapsed": 0.03789854049682617,
       "ncols": null,
       "nrows": null,
       "prefix": "Summarize dataset",
       "ascii": false,
       "unit": "it",
       "unit_scale": false,
       "rate": null,
       "bar_format": null,
       "postfix": null,
       "unit_divisor": 1000,
       "initial": 0,
       "colour": null
      }
     },
     "metadata": {},
     "output_type": "display_data"
    },
    {
     "name": "stderr",
     "output_type": "stream",
     "text": [
      "c:\\users\\asus\\appdata\\local\\programs\\python\\python39\\lib\\site-packages\\ydata_profiling\\model\\pandas\\describe_numeric_pandas.py:122: RuntimeWarning: overflow encountered in longlong_scalars\n",
      "  stats[\"range\"] = stats[\"max\"] - stats[\"min\"]\n",
      "c:\\users\\asus\\appdata\\local\\programs\\python\\python39\\lib\\site-packages\\ydata_profiling\\model\\pandas\\describe_numeric_pandas.py:122: RuntimeWarning: overflow encountered in longlong_scalars\n",
      "  stats[\"range\"] = stats[\"max\"] - stats[\"min\"]\n"
     ]
    },
    {
     "data": {
      "text/plain": "Generate report structure:   0%|          | 0/1 [00:00<?, ?it/s]",
      "application/vnd.jupyter.widget-view+json": {
       "version_major": 2,
       "version_minor": 0,
       "model_id": "2581c49aa8e94749849b75c3f5be7f94"
      },
      "application/json": {
       "n": 0,
       "total": 1,
       "elapsed": 0.0029909610748291016,
       "ncols": null,
       "nrows": null,
       "prefix": "Generate report structure",
       "ascii": false,
       "unit": "it",
       "unit_scale": false,
       "rate": null,
       "bar_format": null,
       "postfix": null,
       "unit_divisor": 1000,
       "initial": 0,
       "colour": null
      }
     },
     "metadata": {},
     "output_type": "display_data"
    },
    {
     "data": {
      "text/plain": "Render HTML:   0%|          | 0/1 [00:00<?, ?it/s]",
      "application/vnd.jupyter.widget-view+json": {
       "version_major": 2,
       "version_minor": 0,
       "model_id": "b0ee7cc535284ad0a19581e4180787b6"
      },
      "application/json": {
       "n": 0,
       "total": 1,
       "elapsed": 0.002991914749145508,
       "ncols": null,
       "nrows": null,
       "prefix": "Render HTML",
       "ascii": false,
       "unit": "it",
       "unit_scale": false,
       "rate": null,
       "bar_format": null,
       "postfix": null,
       "unit_divisor": 1000,
       "initial": 0,
       "colour": null
      }
     },
     "metadata": {},
     "output_type": "display_data"
    },
    {
     "data": {
      "text/plain": "Export report to file:   0%|          | 0/1 [00:00<?, ?it/s]",
      "application/vnd.jupyter.widget-view+json": {
       "version_major": 2,
       "version_minor": 0,
       "model_id": "e8d51124bee047168b72970a0ad32dcd"
      },
      "application/json": {
       "n": 0,
       "total": 1,
       "elapsed": 0.00902247428894043,
       "ncols": null,
       "nrows": null,
       "prefix": "Export report to file",
       "ascii": false,
       "unit": "it",
       "unit_scale": false,
       "rate": null,
       "bar_format": null,
       "postfix": null,
       "unit_divisor": 1000,
       "initial": 0,
       "colour": null
      }
     },
     "metadata": {},
     "output_type": "display_data"
    }
   ],
   "source": [
    "ProfileReport(df, title=\"Profiling Report\").to_file(\"your_report.html\")"
   ],
   "metadata": {
    "collapsed": false,
    "ExecuteTime": {
     "start_time": "2023-06-08T15:38:33.261027Z",
     "end_time": "2023-06-08T15:40:39.702962Z"
    }
   }
  }
 ],
 "metadata": {
  "kernelspec": {
   "display_name": "Python 3",
   "language": "python",
   "name": "python3"
  },
  "language_info": {
   "codemirror_mode": {
    "name": "ipython",
    "version": 2
   },
   "file_extension": ".py",
   "mimetype": "text/x-python",
   "name": "python",
   "nbconvert_exporter": "python",
   "pygments_lexer": "ipython2",
   "version": "2.7.6"
  }
 },
 "nbformat": 4,
 "nbformat_minor": 0
}
