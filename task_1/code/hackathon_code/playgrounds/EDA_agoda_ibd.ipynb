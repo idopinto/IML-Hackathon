{
 "cells": [
  {
   "cell_type": "code",
   "execution_count": 1,
   "metadata": {
    "collapsed": true,
    "ExecuteTime": {
     "start_time": "2023-06-08T12:47:47.820136Z",
     "end_time": "2023-06-08T12:47:54.760755Z"
    }
   },
   "outputs": [],
   "source": [
    "import numpy as np\n",
    "import pandas as pd\n",
    "from matplotlib import pyplot as plt\n",
    "from sklearn.model_selection import train_test_split\n",
    "from ydata_profiling import ProfileReport\n",
    "from task_1.code.pp import preprocess\n"
   ]
  },
  {
   "cell_type": "code",
   "execution_count": 2,
   "outputs": [
    {
     "data": {
      "text/plain": "0    False\n1    False\n2    False\n3    False\n4     True\nName: did_cancel, dtype: bool"
     },
     "execution_count": 2,
     "metadata": {},
     "output_type": "execute_result"
    }
   ],
   "source": [
    "df = pd.read_csv(\"../Datasets/train_set_agoda.csv\",parse_dates=[\"booking_datetime\",\"checkin_date\", \"checkout_date\", \"hotel_live_date\", \"cancellation_datetime\"])\n",
    "# df.head()\n",
    "X, y = preprocess(df)\n",
    "\n",
    "X.head()\n",
    "y.head()"
   ],
   "metadata": {
    "collapsed": false,
    "ExecuteTime": {
     "start_time": "2023-06-08T12:49:11.595740Z",
     "end_time": "2023-06-08T12:49:12.208145Z"
    }
   }
  },
  {
   "cell_type": "code",
   "execution_count": 3,
   "outputs": [
    {
     "data": {
      "text/plain": "Summarize dataset:   0%|          | 0/5 [00:00<?, ?it/s]",
      "application/vnd.jupyter.widget-view+json": {
       "version_major": 2,
       "version_minor": 0,
       "model_id": "e05bdfa760db4fbbbc33121780106768"
      },
      "application/json": {
       "n": 0,
       "total": 5,
       "elapsed": 0.0069811344146728516,
       "ncols": null,
       "nrows": null,
       "prefix": "Summarize dataset",
       "ascii": false,
       "unit": "it",
       "unit_scale": false,
       "rate": null,
       "bar_format": null,
       "postfix": null,
       "unit_divisor": 1000,
       "initial": 0,
       "colour": null
      }
     },
     "metadata": {},
     "output_type": "display_data"
    },
    {
     "name": "stderr",
     "output_type": "stream",
     "text": [
      "c:\\users\\asus\\appdata\\local\\programs\\python\\python39\\lib\\site-packages\\ydata_profiling\\model\\pandas\\describe_numeric_pandas.py:122: RuntimeWarning: overflow encountered in longlong_scalars\n",
      "  stats[\"range\"] = stats[\"max\"] - stats[\"min\"]\n",
      "c:\\users\\asus\\appdata\\local\\programs\\python\\python39\\lib\\site-packages\\ydata_profiling\\model\\pandas\\describe_numeric_pandas.py:122: RuntimeWarning: overflow encountered in longlong_scalars\n",
      "  stats[\"range\"] = stats[\"max\"] - stats[\"min\"]\n"
     ]
    },
    {
     "data": {
      "text/plain": "Generate report structure:   0%|          | 0/1 [00:00<?, ?it/s]",
      "application/vnd.jupyter.widget-view+json": {
       "version_major": 2,
       "version_minor": 0,
       "model_id": "41da17674d7d497eb79a922b100e5140"
      },
      "application/json": {
       "n": 0,
       "total": 1,
       "elapsed": 0.004987001419067383,
       "ncols": null,
       "nrows": null,
       "prefix": "Generate report structure",
       "ascii": false,
       "unit": "it",
       "unit_scale": false,
       "rate": null,
       "bar_format": null,
       "postfix": null,
       "unit_divisor": 1000,
       "initial": 0,
       "colour": null
      }
     },
     "metadata": {},
     "output_type": "display_data"
    },
    {
     "data": {
      "text/plain": "Render HTML:   0%|          | 0/1 [00:00<?, ?it/s]",
      "application/vnd.jupyter.widget-view+json": {
       "version_major": 2,
       "version_minor": 0,
       "model_id": "fa69436159ac4ce39ecd44c4bbb2352a"
      },
      "application/json": {
       "n": 0,
       "total": 1,
       "elapsed": 0.03889608383178711,
       "ncols": null,
       "nrows": null,
       "prefix": "Render HTML",
       "ascii": false,
       "unit": "it",
       "unit_scale": false,
       "rate": null,
       "bar_format": null,
       "postfix": null,
       "unit_divisor": 1000,
       "initial": 0,
       "colour": null
      }
     },
     "metadata": {},
     "output_type": "display_data"
    },
    {
     "data": {
      "text/plain": "Export report to file:   0%|          | 0/1 [00:00<?, ?it/s]",
      "application/vnd.jupyter.widget-view+json": {
       "version_major": 2,
       "version_minor": 0,
       "model_id": "d0f38c6de6574c0e8993f3812163151c"
      },
      "application/json": {
       "n": 0,
       "total": 1,
       "elapsed": 0.024930953979492188,
       "ncols": null,
       "nrows": null,
       "prefix": "Export report to file",
       "ascii": false,
       "unit": "it",
       "unit_scale": false,
       "rate": null,
       "bar_format": null,
       "postfix": null,
       "unit_divisor": 1000,
       "initial": 0,
       "colour": null
      }
     },
     "metadata": {},
     "output_type": "display_data"
    }
   ],
   "source": [
    "ProfileReport(df, title=\"Profiling Report\").to_file(\"your_report.html\")"
   ],
   "metadata": {
    "collapsed": false,
    "ExecuteTime": {
     "start_time": "2023-06-08T12:49:22.013485Z",
     "end_time": "2023-06-08T12:51:03.425777Z"
    }
   }
  }
 ],
 "metadata": {
  "kernelspec": {
   "display_name": "Python 3",
   "language": "python",
   "name": "python3"
  },
  "language_info": {
   "codemirror_mode": {
    "name": "ipython",
    "version": 2
   },
   "file_extension": ".py",
   "mimetype": "text/x-python",
   "name": "python",
   "nbconvert_exporter": "python",
   "pygments_lexer": "ipython2",
   "version": "2.7.6"
  }
 },
 "nbformat": 4,
 "nbformat_minor": 0
}
