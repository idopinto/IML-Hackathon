{
 "cells": [
  {
   "cell_type": "code",
   "execution_count": 2,
   "metadata": {
    "collapsed": true,
    "ExecuteTime": {
     "start_time": "2023-06-08T21:20:03.265365Z",
     "end_time": "2023-06-08T21:20:03.301265Z"
    }
   },
   "outputs": [],
   "source": [
    "import numpy as np\n",
    "import pandas as pd\n",
    "from matplotlib import pyplot as plt\n",
    "from sklearn.model_selection import train_test_split\n",
    "from ydata_profiling import ProfileReport\n",
    "from task_1.code.hackathon_code.Utils.utils import load_data\n",
    "from task_1.code.hackathon_code.Utils.utils import parse_policy\n",
    "from task_1.code.hackathon_code.Utils.pp import preprocess_q1\n",
    "\n"
   ]
  },
  {
   "cell_type": "code",
   "execution_count": 2,
   "outputs": [],
   "source": [],
   "metadata": {
    "collapsed": false,
    "ExecuteTime": {
     "start_time": "2023-06-08T15:12:28.839078Z",
     "end_time": "2023-06-08T15:12:28.852228Z"
    }
   }
  },
  {
   "cell_type": "code",
   "execution_count": 4,
   "outputs": [
    {
     "data": {
      "text/plain": "          h_booking_id  booking_datetime  checkin_date  checkout_date  \\\n0  7861445258918608962               294           212            213   \n1 -3175925110616170919               222           222            223   \n2 -5166200042028380517               257           257            258   \n3  6165211278500849566               256           256            257   \n4 -1853092131420973567                32           243            245   \n\n   hotel_id  hotel_country_code  hotel_live_date  hotel_star_rating  \\\n0     88838                 5.0      2125.581250                4.0   \n1     51920                57.0      2138.581250                3.0   \n2     90189               114.0      1554.663194                4.0   \n3    236389               113.0      2934.697222                0.0   \n4    187085                57.0      2982.681944                3.5   \n\n   accommadation_type_name  customer_nationality  ...  request_earlycheckin  \\\n0                     16.0                  24.0  ...                   0.0   \n1                     10.0                  60.0  ...                   0.0   \n2                     10.0                 117.0  ...                   0.0   \n3                      5.0                 123.0  ...                   0.0   \n4                     10.0                 112.0  ...                   0.0   \n\n   hotel_area_code  hotel_city_code  has_request  distance_booking_checkin  \\\n0             5832              461          1.0                282.190278   \n1              643             2249          0.0                 -0.652778   \n2             2900              892          0.0                 -0.913889   \n3             3110              744          1.0                 -0.565278   \n4             3760             2260          0.0                210.136111   \n\n   amount_guests  amount_nights  price_per_guest_per_night  \\\n0             12            1.0                  36.376667   \n1              1            1.0                  54.010000   \n2              2            1.0                  49.590000   \n3              1            1.0                  19.360000   \n4              1            2.0                  87.760000   \n\n   costumer_guest_same_nation  pay_now  \n0                       False     True  \n1                       False     True  \n2                       False     True  \n3                       False     True  \n4                       False    False  \n\n[5 rows x 41 columns]",
      "text/html": "<div>\n<style scoped>\n    .dataframe tbody tr th:only-of-type {\n        vertical-align: middle;\n    }\n\n    .dataframe tbody tr th {\n        vertical-align: top;\n    }\n\n    .dataframe thead th {\n        text-align: right;\n    }\n</style>\n<table border=\"1\" class=\"dataframe\">\n  <thead>\n    <tr style=\"text-align: right;\">\n      <th></th>\n      <th>h_booking_id</th>\n      <th>booking_datetime</th>\n      <th>checkin_date</th>\n      <th>checkout_date</th>\n      <th>hotel_id</th>\n      <th>hotel_country_code</th>\n      <th>hotel_live_date</th>\n      <th>hotel_star_rating</th>\n      <th>accommadation_type_name</th>\n      <th>customer_nationality</th>\n      <th>...</th>\n      <th>request_earlycheckin</th>\n      <th>hotel_area_code</th>\n      <th>hotel_city_code</th>\n      <th>has_request</th>\n      <th>distance_booking_checkin</th>\n      <th>amount_guests</th>\n      <th>amount_nights</th>\n      <th>price_per_guest_per_night</th>\n      <th>costumer_guest_same_nation</th>\n      <th>pay_now</th>\n    </tr>\n  </thead>\n  <tbody>\n    <tr>\n      <th>0</th>\n      <td>7861445258918608962</td>\n      <td>294</td>\n      <td>212</td>\n      <td>213</td>\n      <td>88838</td>\n      <td>5.0</td>\n      <td>2125.581250</td>\n      <td>4.0</td>\n      <td>16.0</td>\n      <td>24.0</td>\n      <td>...</td>\n      <td>0.0</td>\n      <td>5832</td>\n      <td>461</td>\n      <td>1.0</td>\n      <td>282.190278</td>\n      <td>12</td>\n      <td>1.0</td>\n      <td>36.376667</td>\n      <td>False</td>\n      <td>True</td>\n    </tr>\n    <tr>\n      <th>1</th>\n      <td>-3175925110616170919</td>\n      <td>222</td>\n      <td>222</td>\n      <td>223</td>\n      <td>51920</td>\n      <td>57.0</td>\n      <td>2138.581250</td>\n      <td>3.0</td>\n      <td>10.0</td>\n      <td>60.0</td>\n      <td>...</td>\n      <td>0.0</td>\n      <td>643</td>\n      <td>2249</td>\n      <td>0.0</td>\n      <td>-0.652778</td>\n      <td>1</td>\n      <td>1.0</td>\n      <td>54.010000</td>\n      <td>False</td>\n      <td>True</td>\n    </tr>\n    <tr>\n      <th>2</th>\n      <td>-5166200042028380517</td>\n      <td>257</td>\n      <td>257</td>\n      <td>258</td>\n      <td>90189</td>\n      <td>114.0</td>\n      <td>1554.663194</td>\n      <td>4.0</td>\n      <td>10.0</td>\n      <td>117.0</td>\n      <td>...</td>\n      <td>0.0</td>\n      <td>2900</td>\n      <td>892</td>\n      <td>0.0</td>\n      <td>-0.913889</td>\n      <td>2</td>\n      <td>1.0</td>\n      <td>49.590000</td>\n      <td>False</td>\n      <td>True</td>\n    </tr>\n    <tr>\n      <th>3</th>\n      <td>6165211278500849566</td>\n      <td>256</td>\n      <td>256</td>\n      <td>257</td>\n      <td>236389</td>\n      <td>113.0</td>\n      <td>2934.697222</td>\n      <td>0.0</td>\n      <td>5.0</td>\n      <td>123.0</td>\n      <td>...</td>\n      <td>0.0</td>\n      <td>3110</td>\n      <td>744</td>\n      <td>1.0</td>\n      <td>-0.565278</td>\n      <td>1</td>\n      <td>1.0</td>\n      <td>19.360000</td>\n      <td>False</td>\n      <td>True</td>\n    </tr>\n    <tr>\n      <th>4</th>\n      <td>-1853092131420973567</td>\n      <td>32</td>\n      <td>243</td>\n      <td>245</td>\n      <td>187085</td>\n      <td>57.0</td>\n      <td>2982.681944</td>\n      <td>3.5</td>\n      <td>10.0</td>\n      <td>112.0</td>\n      <td>...</td>\n      <td>0.0</td>\n      <td>3760</td>\n      <td>2260</td>\n      <td>0.0</td>\n      <td>210.136111</td>\n      <td>1</td>\n      <td>2.0</td>\n      <td>87.760000</td>\n      <td>False</td>\n      <td>False</td>\n    </tr>\n  </tbody>\n</table>\n<p>5 rows × 41 columns</p>\n</div>"
     },
     "execution_count": 4,
     "metadata": {},
     "output_type": "execute_result"
    }
   ],
   "source": [
    "\n",
    "df = load_data(\"../Datasets/train_set_agoda.csv\")\n",
    "\n",
    "df, y = preprocess_q1(df)\n",
    "df.head()\n",
    "# y.head()"
   ],
   "metadata": {
    "collapsed": false,
    "ExecuteTime": {
     "start_time": "2023-06-08T21:20:16.400379Z",
     "end_time": "2023-06-08T21:20:17.790931Z"
    }
   }
  },
  {
   "cell_type": "code",
   "execution_count": 9,
   "outputs": [
    {
     "ename": "AttributeError",
     "evalue": "'float' object has no attribute 'split'",
     "output_type": "error",
     "traceback": [
      "\u001B[1;31m---------------------------------------------------------------------------\u001B[0m",
      "\u001B[1;31mAttributeError\u001B[0m                            Traceback (most recent call last)",
      "Cell \u001B[1;32mIn[9], line 8\u001B[0m\n\u001B[0;32m      4\u001B[0m     \u001B[38;5;28mprint\u001B[39m(row[\u001B[38;5;124m\"\u001B[39m\u001B[38;5;124mamount_nights\u001B[39m\u001B[38;5;124m\"\u001B[39m])\n\u001B[0;32m      6\u001B[0m \u001B[38;5;66;03m# df[\"test\"] = df.apply(lambda row: parse_policy(row[\"cancellation_policy_code\"], row[\"amount_nights\"]))\u001B[39;00m\n\u001B[1;32m----> 8\u001B[0m df[\u001B[38;5;124m\"\u001B[39m\u001B[38;5;124mtest\u001B[39m\u001B[38;5;124m\"\u001B[39m] \u001B[38;5;241m=\u001B[39m \u001B[43mdf\u001B[49m\u001B[38;5;241;43m.\u001B[39;49m\u001B[43mapply\u001B[49m\u001B[43m(\u001B[49m\u001B[38;5;28;43;01mlambda\u001B[39;49;00m\u001B[43m \u001B[49m\u001B[43mrow\u001B[49m\u001B[43m:\u001B[49m\u001B[43m \u001B[49m\u001B[43mparse_policy\u001B[49m\u001B[43m(\u001B[49m\u001B[43mrow\u001B[49m\u001B[43m[\u001B[49m\u001B[38;5;124;43m\"\u001B[39;49m\u001B[38;5;124;43mcancellation_policy_code\u001B[39;49m\u001B[38;5;124;43m\"\u001B[39;49m\u001B[43m]\u001B[49m\u001B[43m,\u001B[49m\u001B[43m \u001B[49m\u001B[43mrow\u001B[49m\u001B[43m[\u001B[49m\u001B[38;5;124;43m\"\u001B[39;49m\u001B[38;5;124;43mamount_nights\u001B[39;49m\u001B[38;5;124;43m\"\u001B[39;49m\u001B[43m]\u001B[49m\u001B[43m)\u001B[49m\u001B[43m,\u001B[49m\u001B[43m \u001B[49m\u001B[43maxis\u001B[49m\u001B[38;5;241;43m=\u001B[39;49m\u001B[38;5;241;43m1\u001B[39;49m\u001B[43m)\u001B[49m\n\u001B[0;32m     11\u001B[0m df[\u001B[38;5;124m\"\u001B[39m\u001B[38;5;124mtest\u001B[39m\u001B[38;5;124m\"\u001B[39m]\n\u001B[0;32m     13\u001B[0m \u001B[38;5;66;03m# Then, create a new column for \"days_cancellation_1\" by selecting the first item from the list in \"policy_parsed\"\u001B[39;00m\n",
      "File \u001B[1;32mc:\\users\\asus\\appdata\\local\\programs\\python\\python39\\lib\\site-packages\\pandas\\core\\frame.py:8740\u001B[0m, in \u001B[0;36mDataFrame.apply\u001B[1;34m(self, func, axis, raw, result_type, args, **kwargs)\u001B[0m\n\u001B[0;32m   8729\u001B[0m \u001B[38;5;28;01mfrom\u001B[39;00m \u001B[38;5;21;01mpandas\u001B[39;00m\u001B[38;5;21;01m.\u001B[39;00m\u001B[38;5;21;01mcore\u001B[39;00m\u001B[38;5;21;01m.\u001B[39;00m\u001B[38;5;21;01mapply\u001B[39;00m \u001B[38;5;28;01mimport\u001B[39;00m frame_apply\n\u001B[0;32m   8731\u001B[0m op \u001B[38;5;241m=\u001B[39m frame_apply(\n\u001B[0;32m   8732\u001B[0m     \u001B[38;5;28mself\u001B[39m,\n\u001B[0;32m   8733\u001B[0m     func\u001B[38;5;241m=\u001B[39mfunc,\n\u001B[1;32m   (...)\u001B[0m\n\u001B[0;32m   8738\u001B[0m     kwargs\u001B[38;5;241m=\u001B[39mkwargs,\n\u001B[0;32m   8739\u001B[0m )\n\u001B[1;32m-> 8740\u001B[0m \u001B[38;5;28;01mreturn\u001B[39;00m \u001B[43mop\u001B[49m\u001B[38;5;241;43m.\u001B[39;49m\u001B[43mapply\u001B[49m\u001B[43m(\u001B[49m\u001B[43m)\u001B[49m\n",
      "File \u001B[1;32mc:\\users\\asus\\appdata\\local\\programs\\python\\python39\\lib\\site-packages\\pandas\\core\\apply.py:688\u001B[0m, in \u001B[0;36mFrameApply.apply\u001B[1;34m(self)\u001B[0m\n\u001B[0;32m    685\u001B[0m \u001B[38;5;28;01melif\u001B[39;00m \u001B[38;5;28mself\u001B[39m\u001B[38;5;241m.\u001B[39mraw:\n\u001B[0;32m    686\u001B[0m     \u001B[38;5;28;01mreturn\u001B[39;00m \u001B[38;5;28mself\u001B[39m\u001B[38;5;241m.\u001B[39mapply_raw()\n\u001B[1;32m--> 688\u001B[0m \u001B[38;5;28;01mreturn\u001B[39;00m \u001B[38;5;28;43mself\u001B[39;49m\u001B[38;5;241;43m.\u001B[39;49m\u001B[43mapply_standard\u001B[49m\u001B[43m(\u001B[49m\u001B[43m)\u001B[49m\n",
      "File \u001B[1;32mc:\\users\\asus\\appdata\\local\\programs\\python\\python39\\lib\\site-packages\\pandas\\core\\apply.py:812\u001B[0m, in \u001B[0;36mFrameApply.apply_standard\u001B[1;34m(self)\u001B[0m\n\u001B[0;32m    811\u001B[0m \u001B[38;5;28;01mdef\u001B[39;00m \u001B[38;5;21mapply_standard\u001B[39m(\u001B[38;5;28mself\u001B[39m):\n\u001B[1;32m--> 812\u001B[0m     results, res_index \u001B[38;5;241m=\u001B[39m \u001B[38;5;28;43mself\u001B[39;49m\u001B[38;5;241;43m.\u001B[39;49m\u001B[43mapply_series_generator\u001B[49m\u001B[43m(\u001B[49m\u001B[43m)\u001B[49m\n\u001B[0;32m    814\u001B[0m     \u001B[38;5;66;03m# wrap results\u001B[39;00m\n\u001B[0;32m    815\u001B[0m     \u001B[38;5;28;01mreturn\u001B[39;00m \u001B[38;5;28mself\u001B[39m\u001B[38;5;241m.\u001B[39mwrap_results(results, res_index)\n",
      "File \u001B[1;32mc:\\users\\asus\\appdata\\local\\programs\\python\\python39\\lib\\site-packages\\pandas\\core\\apply.py:828\u001B[0m, in \u001B[0;36mFrameApply.apply_series_generator\u001B[1;34m(self)\u001B[0m\n\u001B[0;32m    825\u001B[0m \u001B[38;5;28;01mwith\u001B[39;00m option_context(\u001B[38;5;124m\"\u001B[39m\u001B[38;5;124mmode.chained_assignment\u001B[39m\u001B[38;5;124m\"\u001B[39m, \u001B[38;5;28;01mNone\u001B[39;00m):\n\u001B[0;32m    826\u001B[0m     \u001B[38;5;28;01mfor\u001B[39;00m i, v \u001B[38;5;129;01min\u001B[39;00m \u001B[38;5;28menumerate\u001B[39m(series_gen):\n\u001B[0;32m    827\u001B[0m         \u001B[38;5;66;03m# ignore SettingWithCopy here in case the user mutates\u001B[39;00m\n\u001B[1;32m--> 828\u001B[0m         results[i] \u001B[38;5;241m=\u001B[39m \u001B[38;5;28;43mself\u001B[39;49m\u001B[38;5;241;43m.\u001B[39;49m\u001B[43mf\u001B[49m\u001B[43m(\u001B[49m\u001B[43mv\u001B[49m\u001B[43m)\u001B[49m\n\u001B[0;32m    829\u001B[0m         \u001B[38;5;28;01mif\u001B[39;00m \u001B[38;5;28misinstance\u001B[39m(results[i], ABCSeries):\n\u001B[0;32m    830\u001B[0m             \u001B[38;5;66;03m# If we have a view on v, we need to make a copy because\u001B[39;00m\n\u001B[0;32m    831\u001B[0m             \u001B[38;5;66;03m#  series_generator will swap out the underlying data\u001B[39;00m\n\u001B[0;32m    832\u001B[0m             results[i] \u001B[38;5;241m=\u001B[39m results[i]\u001B[38;5;241m.\u001B[39mcopy(deep\u001B[38;5;241m=\u001B[39m\u001B[38;5;28;01mFalse\u001B[39;00m)\n",
      "Cell \u001B[1;32mIn[9], line 8\u001B[0m, in \u001B[0;36m<lambda>\u001B[1;34m(row)\u001B[0m\n\u001B[0;32m      4\u001B[0m     \u001B[38;5;28mprint\u001B[39m(row[\u001B[38;5;124m\"\u001B[39m\u001B[38;5;124mamount_nights\u001B[39m\u001B[38;5;124m\"\u001B[39m])\n\u001B[0;32m      6\u001B[0m \u001B[38;5;66;03m# df[\"test\"] = df.apply(lambda row: parse_policy(row[\"cancellation_policy_code\"], row[\"amount_nights\"]))\u001B[39;00m\n\u001B[1;32m----> 8\u001B[0m df[\u001B[38;5;124m\"\u001B[39m\u001B[38;5;124mtest\u001B[39m\u001B[38;5;124m\"\u001B[39m] \u001B[38;5;241m=\u001B[39m df\u001B[38;5;241m.\u001B[39mapply(\u001B[38;5;28;01mlambda\u001B[39;00m row: \u001B[43mparse_policy\u001B[49m\u001B[43m(\u001B[49m\u001B[43mrow\u001B[49m\u001B[43m[\u001B[49m\u001B[38;5;124;43m\"\u001B[39;49m\u001B[38;5;124;43mcancellation_policy_code\u001B[39;49m\u001B[38;5;124;43m\"\u001B[39;49m\u001B[43m]\u001B[49m\u001B[43m,\u001B[49m\u001B[43m \u001B[49m\u001B[43mrow\u001B[49m\u001B[43m[\u001B[49m\u001B[38;5;124;43m\"\u001B[39;49m\u001B[38;5;124;43mamount_nights\u001B[39;49m\u001B[38;5;124;43m\"\u001B[39;49m\u001B[43m]\u001B[49m\u001B[43m)\u001B[49m, axis\u001B[38;5;241m=\u001B[39m\u001B[38;5;241m1\u001B[39m)\n\u001B[0;32m     11\u001B[0m df[\u001B[38;5;124m\"\u001B[39m\u001B[38;5;124mtest\u001B[39m\u001B[38;5;124m\"\u001B[39m]\n\u001B[0;32m     13\u001B[0m \u001B[38;5;66;03m# Then, create a new column for \"days_cancellation_1\" by selecting the first item from the list in \"policy_parsed\"\u001B[39;00m\n",
      "File \u001B[1;32mG:\\My Drive\\67577 Introduction to Machine Learning\\IML-Hackathon\\task_1\\code\\hackathon_code\\Utils\\utils.py:83\u001B[0m, in \u001B[0;36mparse_policy\u001B[1;34m(policy_code, num_nights)\u001B[0m\n\u001B[0;32m     82\u001B[0m \u001B[38;5;28;01mdef\u001B[39;00m \u001B[38;5;21mparse_policy\u001B[39m(policy_code, num_nights):\n\u001B[1;32m---> 83\u001B[0m     policies \u001B[38;5;241m=\u001B[39m \u001B[43mpolicy_code\u001B[49m\u001B[38;5;241;43m.\u001B[39;49m\u001B[43msplit\u001B[49m(\u001B[38;5;124m\"\u001B[39m\u001B[38;5;124m_\u001B[39m\u001B[38;5;124m\"\u001B[39m)\n\u001B[0;32m     84\u001B[0m     parsed_policy \u001B[38;5;241m=\u001B[39m [\u001B[38;5;241m-\u001B[39m\u001B[38;5;241m1\u001B[39m, \u001B[38;5;241m-\u001B[39m\u001B[38;5;241m1\u001B[39m, \u001B[38;5;241m-\u001B[39m\u001B[38;5;241m1\u001B[39m, \u001B[38;5;241m-\u001B[39m\u001B[38;5;241m1\u001B[39m, \u001B[38;5;241m-\u001B[39m\u001B[38;5;241m1\u001B[39m]  \u001B[38;5;66;03m# Initialize the list with -1\u001B[39;00m\n\u001B[0;32m     86\u001B[0m     \u001B[38;5;28;01mfor\u001B[39;00m i, policy \u001B[38;5;129;01min\u001B[39;00m \u001B[38;5;28menumerate\u001B[39m(policies):\n",
      "\u001B[1;31mAttributeError\u001B[0m: 'float' object has no attribute 'split'"
     ]
    }
   ],
   "source": [
    "# First, apply the function to the DataFrame\n",
    "def aa(row):\n",
    "    print(row[\"policy_parsed\"])\n",
    "    print(row[\"amount_nights\"])\n",
    "\n",
    "# df[\"test\"] = df.apply(lambda row: parse_policy(row[\"cancellation_policy_code\"], row[\"amount_nights\"]))\n",
    "\n",
    "df[\"test\"] = df.apply(lambda row: parse_policy(row[\"cancellation_policy_code\"], row[\"amount_nights\"]), axis=1)\n",
    "\n",
    "\n",
    "df[\"test\"]\n",
    "\n",
    "# Then, create a new column for \"days_cancellation_1\" by selecting the first item from the list in \"policy_parsed\"\n"
   ],
   "metadata": {
    "collapsed": false,
    "ExecuteTime": {
     "start_time": "2023-06-08T21:20:49.466738Z",
     "end_time": "2023-06-08T21:20:49.514785Z"
    }
   }
  }
 ],
 "metadata": {
  "kernelspec": {
   "display_name": "Python 3",
   "language": "python",
   "name": "python3"
  },
  "language_info": {
   "codemirror_mode": {
    "name": "ipython",
    "version": 2
   },
   "file_extension": ".py",
   "mimetype": "text/x-python",
   "name": "python",
   "nbconvert_exporter": "python",
   "pygments_lexer": "ipython2",
   "version": "2.7.6"
  }
 },
 "nbformat": 4,
 "nbformat_minor": 0
}
