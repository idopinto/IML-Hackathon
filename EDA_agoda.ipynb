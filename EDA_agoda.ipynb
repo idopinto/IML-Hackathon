{
 "cells": [
  {
   "cell_type": "code",
   "execution_count": 10,
   "metadata": {
    "collapsed": true
   },
   "outputs": [],
   "source": [
    "import numpy as np\n",
    "import pandas as pd\n",
    "from matplotlib import pyplot as plt\n",
    "from sklearn.model_selection import train_test_split\n"
   ]
  },
  {
   "cell_type": "code",
   "execution_count": 11,
   "outputs": [
    {
     "data": {
      "text/plain": "          h_booking_id     booking_datetime         checkin_date  \\\n0 -9223194055642672935  2018-06-28 21:15:00  2018-07-09 00:00:00   \n1 -9222713784330706132  2018-08-10 22:31:00  2018-08-16 00:00:00   \n2 -9222411208325704942  2018-09-14 07:55:00  2018-09-14 00:00:00   \n3 -9222220845872895471  2018-06-25 07:33:00  2018-07-02 00:00:00   \n4 -9221127186162682116  2018-07-23 10:06:00  2018-08-09 00:00:00   \n\n         checkout_date  hotel_id hotel_country_code      hotel_live_date  \\\n0  2018-07-13 00:00:00      6452                 HK  2009-06-28 02:02:00   \n1  2018-08-17 00:00:00     47729                 CN  2011-06-07 11:52:00   \n2  2018-09-15 00:00:00    780431                 KR  2014-11-20 15:43:00   \n3  2018-07-03 00:00:00    291365                 JP  2011-11-21 12:27:00   \n4  2018-08-10 00:00:00    479046                 TH  2013-06-06 10:04:00   \n\n   hotel_star_rating accommadation_type_name charge_option  ...  \\\n0                4.0                   Hotel       Pay Now  ...   \n1                4.0                   Hotel     Pay Later  ...   \n2                4.0                   Hotel       Pay Now  ...   \n3                3.0                   Hotel     Pay Later  ...   \n4                3.0                  Resort     Pay Later  ...   \n\n   request_highfloor request_largebed  request_twinbeds request_airport  \\\n0                NaN              NaN               NaN             NaN   \n1                0.0              0.0               1.0             0.0   \n2                0.0              0.0               0.0             0.0   \n3                0.0              1.0               0.0             0.0   \n4                0.0              1.0               0.0             0.0   \n\n   request_earlycheckin  cancellation_datetime  hotel_area_code  \\\n0                   NaN                    NaN             1192   \n1                   0.0                    NaN             5617   \n2                   0.0                    NaN             3819   \n3                   0.0                    NaN             2379   \n4                   0.0             2018-07-23             1506   \n\n   hotel_brand_code hotel_chain_code hotel_city_code  \n0               NaN              NaN             142  \n1             902.0            600.0            1273  \n2               NaN              NaN            2799  \n3             466.0            236.0            1448  \n4               NaN              NaN             616  \n\n[5 rows x 39 columns]",
      "text/html": "<div>\n<style scoped>\n    .dataframe tbody tr th:only-of-type {\n        vertical-align: middle;\n    }\n\n    .dataframe tbody tr th {\n        vertical-align: top;\n    }\n\n    .dataframe thead th {\n        text-align: right;\n    }\n</style>\n<table border=\"1\" class=\"dataframe\">\n  <thead>\n    <tr style=\"text-align: right;\">\n      <th></th>\n      <th>h_booking_id</th>\n      <th>booking_datetime</th>\n      <th>checkin_date</th>\n      <th>checkout_date</th>\n      <th>hotel_id</th>\n      <th>hotel_country_code</th>\n      <th>hotel_live_date</th>\n      <th>hotel_star_rating</th>\n      <th>accommadation_type_name</th>\n      <th>charge_option</th>\n      <th>...</th>\n      <th>request_highfloor</th>\n      <th>request_largebed</th>\n      <th>request_twinbeds</th>\n      <th>request_airport</th>\n      <th>request_earlycheckin</th>\n      <th>cancellation_datetime</th>\n      <th>hotel_area_code</th>\n      <th>hotel_brand_code</th>\n      <th>hotel_chain_code</th>\n      <th>hotel_city_code</th>\n    </tr>\n  </thead>\n  <tbody>\n    <tr>\n      <th>0</th>\n      <td>-9223194055642672935</td>\n      <td>2018-06-28 21:15:00</td>\n      <td>2018-07-09 00:00:00</td>\n      <td>2018-07-13 00:00:00</td>\n      <td>6452</td>\n      <td>HK</td>\n      <td>2009-06-28 02:02:00</td>\n      <td>4.0</td>\n      <td>Hotel</td>\n      <td>Pay Now</td>\n      <td>...</td>\n      <td>NaN</td>\n      <td>NaN</td>\n      <td>NaN</td>\n      <td>NaN</td>\n      <td>NaN</td>\n      <td>NaN</td>\n      <td>1192</td>\n      <td>NaN</td>\n      <td>NaN</td>\n      <td>142</td>\n    </tr>\n    <tr>\n      <th>1</th>\n      <td>-9222713784330706132</td>\n      <td>2018-08-10 22:31:00</td>\n      <td>2018-08-16 00:00:00</td>\n      <td>2018-08-17 00:00:00</td>\n      <td>47729</td>\n      <td>CN</td>\n      <td>2011-06-07 11:52:00</td>\n      <td>4.0</td>\n      <td>Hotel</td>\n      <td>Pay Later</td>\n      <td>...</td>\n      <td>0.0</td>\n      <td>0.0</td>\n      <td>1.0</td>\n      <td>0.0</td>\n      <td>0.0</td>\n      <td>NaN</td>\n      <td>5617</td>\n      <td>902.0</td>\n      <td>600.0</td>\n      <td>1273</td>\n    </tr>\n    <tr>\n      <th>2</th>\n      <td>-9222411208325704942</td>\n      <td>2018-09-14 07:55:00</td>\n      <td>2018-09-14 00:00:00</td>\n      <td>2018-09-15 00:00:00</td>\n      <td>780431</td>\n      <td>KR</td>\n      <td>2014-11-20 15:43:00</td>\n      <td>4.0</td>\n      <td>Hotel</td>\n      <td>Pay Now</td>\n      <td>...</td>\n      <td>0.0</td>\n      <td>0.0</td>\n      <td>0.0</td>\n      <td>0.0</td>\n      <td>0.0</td>\n      <td>NaN</td>\n      <td>3819</td>\n      <td>NaN</td>\n      <td>NaN</td>\n      <td>2799</td>\n    </tr>\n    <tr>\n      <th>3</th>\n      <td>-9222220845872895471</td>\n      <td>2018-06-25 07:33:00</td>\n      <td>2018-07-02 00:00:00</td>\n      <td>2018-07-03 00:00:00</td>\n      <td>291365</td>\n      <td>JP</td>\n      <td>2011-11-21 12:27:00</td>\n      <td>3.0</td>\n      <td>Hotel</td>\n      <td>Pay Later</td>\n      <td>...</td>\n      <td>0.0</td>\n      <td>1.0</td>\n      <td>0.0</td>\n      <td>0.0</td>\n      <td>0.0</td>\n      <td>NaN</td>\n      <td>2379</td>\n      <td>466.0</td>\n      <td>236.0</td>\n      <td>1448</td>\n    </tr>\n    <tr>\n      <th>4</th>\n      <td>-9221127186162682116</td>\n      <td>2018-07-23 10:06:00</td>\n      <td>2018-08-09 00:00:00</td>\n      <td>2018-08-10 00:00:00</td>\n      <td>479046</td>\n      <td>TH</td>\n      <td>2013-06-06 10:04:00</td>\n      <td>3.0</td>\n      <td>Resort</td>\n      <td>Pay Later</td>\n      <td>...</td>\n      <td>0.0</td>\n      <td>1.0</td>\n      <td>0.0</td>\n      <td>0.0</td>\n      <td>0.0</td>\n      <td>2018-07-23</td>\n      <td>1506</td>\n      <td>NaN</td>\n      <td>NaN</td>\n      <td>616</td>\n    </tr>\n  </tbody>\n</table>\n<p>5 rows × 39 columns</p>\n</div>"
     },
     "execution_count": 11,
     "metadata": {},
     "output_type": "execute_result"
    }
   ],
   "source": [
    "df = pd.read_csv(\"AgodaCancellationChallenge/agoda_cancellation_train.csv\")\n",
    "df.head(5)\n"
   ],
   "metadata": {
    "collapsed": false
   }
  },
  {
   "cell_type": "code",
   "execution_count": 16,
   "outputs": [
    {
     "name": "stdout",
     "output_type": "stream",
     "text": [
      "(58659, 39)\n",
      "Index(['h_booking_id', 'booking_datetime', 'checkin_date', 'checkout_date',\n",
      "       'hotel_id', 'hotel_country_code', 'hotel_live_date',\n",
      "       'hotel_star_rating', 'accommadation_type_name', 'charge_option',\n",
      "       'h_customer_id', 'customer_nationality', 'guest_is_not_the_customer',\n",
      "       'guest_nationality_country_name', 'no_of_adults', 'no_of_children',\n",
      "       'no_of_extra_bed', 'no_of_room', 'origin_country_code', 'language',\n",
      "       'original_selling_amount', 'original_payment_method',\n",
      "       'original_payment_type', 'original_payment_currency',\n",
      "       'is_user_logged_in', 'cancellation_policy_code', 'is_first_booking',\n",
      "       'request_nonesmoke', 'request_latecheckin', 'request_highfloor',\n",
      "       'request_largebed', 'request_twinbeds', 'request_airport',\n",
      "       'request_earlycheckin', 'cancellation_datetime', 'hotel_area_code',\n",
      "       'hotel_brand_code', 'hotel_chain_code', 'hotel_city_code'],\n",
      "      dtype='object')\n"
     ]
    }
   ],
   "source": [
    "print(df.shape)\n",
    "print(df.columns)\n"
   ],
   "metadata": {
    "collapsed": false
   }
  },
  {
   "cell_type": "code",
   "execution_count": 13,
   "outputs": [
    {
     "name": "stdout",
     "output_type": "stream",
     "text": [
      "Training set shape: (46927, 38) (46927,)\n",
      "Testing set shape: (11732, 38) (11732,)\n"
     ]
    }
   ],
   "source": [
    "\n",
    "X = df.drop('cancellation_datetime', axis=1)  # Features (input variables)\n",
    "y = df['cancellation_datetime']  # Target variable (output variable)\n",
    "\n",
    "# Splitting the data into training and testing sets\n",
    "X_train, X_test, y_train, y_test = train_test_split(X, y, test_size=0.2, random_state=42)\n",
    "\n",
    "# train_test_split() takes the following arguments:\n",
    "# X: The input features\n",
    "# y: The target variable\n",
    "# test_size: The proportion of the data to be used for testing (0.2 represents 20% for testing)\n",
    "# random_state: A seed value to ensure reproducibility of the split\n",
    "\n",
    "# Printing the shapes of the resulting datasets\n",
    "print(\"Training set shape:\", X_train.shape, y_train.shape)\n",
    "print(\"Testing set shape:\", X_test.shape, y_test.shape)"
   ],
   "metadata": {
    "collapsed": false
   }
  },
  {
   "cell_type": "code",
   "execution_count": 17,
   "outputs": [
    {
     "data": {
      "text/plain": "              h_booking_id     booking_datetime         checkin_date  \\\n54348  7861445258918608962  2017-10-21 19:26:00  2018-07-31 00:00:00   \n19312 -3175925110616170919  2018-08-10 15:40:00  2018-08-10 00:00:00   \n12945 -5166200042028380517  2018-09-14 21:56:00  2018-09-14 00:00:00   \n48989  6165211278500849566  2018-09-13 13:34:00  2018-09-13 00:00:00   \n23534 -1853092131420973567  2018-02-01 20:44:00  2018-08-31 00:00:00   \n\n             checkout_date  hotel_id hotel_country_code      hotel_live_date  \\\n54348  2018-08-01 00:00:00     88838                 AU  2012-10-04 10:03:00   \n19312  2018-08-11 00:00:00     51920                 JP  2012-10-01 10:03:00   \n12945  2018-09-15 00:00:00     90189                 TW  2014-06-12 08:05:00   \n48989  2018-09-14 00:00:00    236389                 TR  2010-08-31 07:16:00   \n23534  2018-09-02 00:00:00    187085                 JP  2010-07-01 07:38:00   \n\n       hotel_star_rating        accommadation_type_name charge_option  ...  \\\n54348                4.0                         Resort       Pay Now  ...   \n19312                3.0                          Hotel       Pay Now  ...   \n12945                4.0                          Hotel       Pay Now  ...   \n48989                0.0  Guest House / Bed & Breakfast       Pay Now  ...   \n23534                3.5                          Hotel     Pay Later  ...   \n\n       request_latecheckin request_highfloor  request_largebed  \\\n54348                  0.0               0.0               0.0   \n19312                  NaN               NaN               NaN   \n12945                  NaN               NaN               NaN   \n48989                  0.0               0.0               1.0   \n23534                  0.0               0.0               0.0   \n\n      request_twinbeds  request_airport  request_earlycheckin  \\\n54348              0.0              0.0                   0.0   \n19312              NaN              NaN                   NaN   \n12945              NaN              NaN                   NaN   \n48989              0.0              0.0                   0.0   \n23534              0.0              0.0                   0.0   \n\n       hotel_area_code  hotel_brand_code hotel_chain_code hotel_city_code  \n54348             5832              50.0            675.0             461  \n19312              643             296.0            191.0            2249  \n12945             2900               NaN              NaN             892  \n48989             3110               NaN              NaN             744  \n23534             3760             453.0            359.0            2260  \n\n[5 rows x 38 columns]",
      "text/html": "<div>\n<style scoped>\n    .dataframe tbody tr th:only-of-type {\n        vertical-align: middle;\n    }\n\n    .dataframe tbody tr th {\n        vertical-align: top;\n    }\n\n    .dataframe thead th {\n        text-align: right;\n    }\n</style>\n<table border=\"1\" class=\"dataframe\">\n  <thead>\n    <tr style=\"text-align: right;\">\n      <th></th>\n      <th>h_booking_id</th>\n      <th>booking_datetime</th>\n      <th>checkin_date</th>\n      <th>checkout_date</th>\n      <th>hotel_id</th>\n      <th>hotel_country_code</th>\n      <th>hotel_live_date</th>\n      <th>hotel_star_rating</th>\n      <th>accommadation_type_name</th>\n      <th>charge_option</th>\n      <th>...</th>\n      <th>request_latecheckin</th>\n      <th>request_highfloor</th>\n      <th>request_largebed</th>\n      <th>request_twinbeds</th>\n      <th>request_airport</th>\n      <th>request_earlycheckin</th>\n      <th>hotel_area_code</th>\n      <th>hotel_brand_code</th>\n      <th>hotel_chain_code</th>\n      <th>hotel_city_code</th>\n    </tr>\n  </thead>\n  <tbody>\n    <tr>\n      <th>54348</th>\n      <td>7861445258918608962</td>\n      <td>2017-10-21 19:26:00</td>\n      <td>2018-07-31 00:00:00</td>\n      <td>2018-08-01 00:00:00</td>\n      <td>88838</td>\n      <td>AU</td>\n      <td>2012-10-04 10:03:00</td>\n      <td>4.0</td>\n      <td>Resort</td>\n      <td>Pay Now</td>\n      <td>...</td>\n      <td>0.0</td>\n      <td>0.0</td>\n      <td>0.0</td>\n      <td>0.0</td>\n      <td>0.0</td>\n      <td>0.0</td>\n      <td>5832</td>\n      <td>50.0</td>\n      <td>675.0</td>\n      <td>461</td>\n    </tr>\n    <tr>\n      <th>19312</th>\n      <td>-3175925110616170919</td>\n      <td>2018-08-10 15:40:00</td>\n      <td>2018-08-10 00:00:00</td>\n      <td>2018-08-11 00:00:00</td>\n      <td>51920</td>\n      <td>JP</td>\n      <td>2012-10-01 10:03:00</td>\n      <td>3.0</td>\n      <td>Hotel</td>\n      <td>Pay Now</td>\n      <td>...</td>\n      <td>NaN</td>\n      <td>NaN</td>\n      <td>NaN</td>\n      <td>NaN</td>\n      <td>NaN</td>\n      <td>NaN</td>\n      <td>643</td>\n      <td>296.0</td>\n      <td>191.0</td>\n      <td>2249</td>\n    </tr>\n    <tr>\n      <th>12945</th>\n      <td>-5166200042028380517</td>\n      <td>2018-09-14 21:56:00</td>\n      <td>2018-09-14 00:00:00</td>\n      <td>2018-09-15 00:00:00</td>\n      <td>90189</td>\n      <td>TW</td>\n      <td>2014-06-12 08:05:00</td>\n      <td>4.0</td>\n      <td>Hotel</td>\n      <td>Pay Now</td>\n      <td>...</td>\n      <td>NaN</td>\n      <td>NaN</td>\n      <td>NaN</td>\n      <td>NaN</td>\n      <td>NaN</td>\n      <td>NaN</td>\n      <td>2900</td>\n      <td>NaN</td>\n      <td>NaN</td>\n      <td>892</td>\n    </tr>\n    <tr>\n      <th>48989</th>\n      <td>6165211278500849566</td>\n      <td>2018-09-13 13:34:00</td>\n      <td>2018-09-13 00:00:00</td>\n      <td>2018-09-14 00:00:00</td>\n      <td>236389</td>\n      <td>TR</td>\n      <td>2010-08-31 07:16:00</td>\n      <td>0.0</td>\n      <td>Guest House / Bed &amp; Breakfast</td>\n      <td>Pay Now</td>\n      <td>...</td>\n      <td>0.0</td>\n      <td>0.0</td>\n      <td>1.0</td>\n      <td>0.0</td>\n      <td>0.0</td>\n      <td>0.0</td>\n      <td>3110</td>\n      <td>NaN</td>\n      <td>NaN</td>\n      <td>744</td>\n    </tr>\n    <tr>\n      <th>23534</th>\n      <td>-1853092131420973567</td>\n      <td>2018-02-01 20:44:00</td>\n      <td>2018-08-31 00:00:00</td>\n      <td>2018-09-02 00:00:00</td>\n      <td>187085</td>\n      <td>JP</td>\n      <td>2010-07-01 07:38:00</td>\n      <td>3.5</td>\n      <td>Hotel</td>\n      <td>Pay Later</td>\n      <td>...</td>\n      <td>0.0</td>\n      <td>0.0</td>\n      <td>0.0</td>\n      <td>0.0</td>\n      <td>0.0</td>\n      <td>0.0</td>\n      <td>3760</td>\n      <td>453.0</td>\n      <td>359.0</td>\n      <td>2260</td>\n    </tr>\n  </tbody>\n</table>\n<p>5 rows × 38 columns</p>\n</div>"
     },
     "execution_count": 17,
     "metadata": {},
     "output_type": "execute_result"
    }
   ],
   "source": [
    "X_train.head()"
   ],
   "metadata": {
    "collapsed": false
   }
  }
 ],
 "metadata": {
  "kernelspec": {
   "display_name": "Python 3",
   "language": "python",
   "name": "python3"
  },
  "language_info": {
   "codemirror_mode": {
    "name": "ipython",
    "version": 2
   },
   "file_extension": ".py",
   "mimetype": "text/x-python",
   "name": "python",
   "nbconvert_exporter": "python",
   "pygments_lexer": "ipython2",
   "version": "2.7.6"
  }
 },
 "nbformat": 4,
 "nbformat_minor": 0
}
