{
 "cells": [
  {
   "cell_type": "code",
   "execution_count": 10,
   "metadata": {
    "collapsed": true
   },
   "outputs": [],
   "source": [
    "import numpy as np\n",
    "import pandas as pd\n",
    "from matplotlib import pyplot as plt\n",
    "from sklearn.model_selection import train_test_split\n"
   ]
  },
  {
   "cell_type": "code",
   "execution_count": 11,
   "outputs": [
    {
     "data": {
      "text/plain": "          h_booking_id     booking_datetime         checkin_date  \\\n0 -9223194055642672935  2018-06-28 21:15:00  2018-07-09 00:00:00   \n1 -9222713784330706132  2018-08-10 22:31:00  2018-08-16 00:00:00   \n2 -9222411208325704942  2018-09-14 07:55:00  2018-09-14 00:00:00   \n3 -9222220845872895471  2018-06-25 07:33:00  2018-07-02 00:00:00   \n4 -9221127186162682116  2018-07-23 10:06:00  2018-08-09 00:00:00   \n\n         checkout_date  hotel_id hotel_country_code      hotel_live_date  \\\n0  2018-07-13 00:00:00      6452                 HK  2009-06-28 02:02:00   \n1  2018-08-17 00:00:00     47729                 CN  2011-06-07 11:52:00   \n2  2018-09-15 00:00:00    780431                 KR  2014-11-20 15:43:00   \n3  2018-07-03 00:00:00    291365                 JP  2011-11-21 12:27:00   \n4  2018-08-10 00:00:00    479046                 TH  2013-06-06 10:04:00   \n\n   hotel_star_rating accommadation_type_name charge_option  ...  \\\n0                4.0                   Hotel       Pay Now  ...   \n1                4.0                   Hotel     Pay Later  ...   \n2                4.0                   Hotel       Pay Now  ...   \n3                3.0                   Hotel     Pay Later  ...   \n4                3.0                  Resort     Pay Later  ...   \n\n   request_highfloor request_largebed  request_twinbeds request_airport  \\\n0                NaN              NaN               NaN             NaN   \n1                0.0              0.0               1.0             0.0   \n2                0.0              0.0               0.0             0.0   \n3                0.0              1.0               0.0             0.0   \n4                0.0              1.0               0.0             0.0   \n\n   request_earlycheckin  cancellation_datetime  hotel_area_code  \\\n0                   NaN                    NaN             1192   \n1                   0.0                    NaN             5617   \n2                   0.0                    NaN             3819   \n3                   0.0                    NaN             2379   \n4                   0.0             2018-07-23             1506   \n\n   hotel_brand_code hotel_chain_code hotel_city_code  \n0               NaN              NaN             142  \n1             902.0            600.0            1273  \n2               NaN              NaN            2799  \n3             466.0            236.0            1448  \n4               NaN              NaN             616  \n\n[5 rows x 39 columns]",
      "text/html": "<div>\n<style scoped>\n    .dataframe tbody tr th:only-of-type {\n        vertical-align: middle;\n    }\n\n    .dataframe tbody tr th {\n        vertical-align: top;\n    }\n\n    .dataframe thead th {\n        text-align: right;\n    }\n</style>\n<table border=\"1\" class=\"dataframe\">\n  <thead>\n    <tr style=\"text-align: right;\">\n      <th></th>\n      <th>h_booking_id</th>\n      <th>booking_datetime</th>\n      <th>checkin_date</th>\n      <th>checkout_date</th>\n      <th>hotel_id</th>\n      <th>hotel_country_code</th>\n      <th>hotel_live_date</th>\n      <th>hotel_star_rating</th>\n      <th>accommadation_type_name</th>\n      <th>charge_option</th>\n      <th>...</th>\n      <th>request_highfloor</th>\n      <th>request_largebed</th>\n      <th>request_twinbeds</th>\n      <th>request_airport</th>\n      <th>request_earlycheckin</th>\n      <th>cancellation_datetime</th>\n      <th>hotel_area_code</th>\n      <th>hotel_brand_code</th>\n      <th>hotel_chain_code</th>\n      <th>hotel_city_code</th>\n    </tr>\n  </thead>\n  <tbody>\n    <tr>\n      <th>0</th>\n      <td>-9223194055642672935</td>\n      <td>2018-06-28 21:15:00</td>\n      <td>2018-07-09 00:00:00</td>\n      <td>2018-07-13 00:00:00</td>\n      <td>6452</td>\n      <td>HK</td>\n      <td>2009-06-28 02:02:00</td>\n      <td>4.0</td>\n      <td>Hotel</td>\n      <td>Pay Now</td>\n      <td>...</td>\n      <td>NaN</td>\n      <td>NaN</td>\n      <td>NaN</td>\n      <td>NaN</td>\n      <td>NaN</td>\n      <td>NaN</td>\n      <td>1192</td>\n      <td>NaN</td>\n      <td>NaN</td>\n      <td>142</td>\n    </tr>\n    <tr>\n      <th>1</th>\n      <td>-9222713784330706132</td>\n      <td>2018-08-10 22:31:00</td>\n      <td>2018-08-16 00:00:00</td>\n      <td>2018-08-17 00:00:00</td>\n      <td>47729</td>\n      <td>CN</td>\n      <td>2011-06-07 11:52:00</td>\n      <td>4.0</td>\n      <td>Hotel</td>\n      <td>Pay Later</td>\n      <td>...</td>\n      <td>0.0</td>\n      <td>0.0</td>\n      <td>1.0</td>\n      <td>0.0</td>\n      <td>0.0</td>\n      <td>NaN</td>\n      <td>5617</td>\n      <td>902.0</td>\n      <td>600.0</td>\n      <td>1273</td>\n    </tr>\n    <tr>\n      <th>2</th>\n      <td>-9222411208325704942</td>\n      <td>2018-09-14 07:55:00</td>\n      <td>2018-09-14 00:00:00</td>\n      <td>2018-09-15 00:00:00</td>\n      <td>780431</td>\n      <td>KR</td>\n      <td>2014-11-20 15:43:00</td>\n      <td>4.0</td>\n      <td>Hotel</td>\n      <td>Pay Now</td>\n      <td>...</td>\n      <td>0.0</td>\n      <td>0.0</td>\n      <td>0.0</td>\n      <td>0.0</td>\n      <td>0.0</td>\n      <td>NaN</td>\n      <td>3819</td>\n      <td>NaN</td>\n      <td>NaN</td>\n      <td>2799</td>\n    </tr>\n    <tr>\n      <th>3</th>\n      <td>-9222220845872895471</td>\n      <td>2018-06-25 07:33:00</td>\n      <td>2018-07-02 00:00:00</td>\n      <td>2018-07-03 00:00:00</td>\n      <td>291365</td>\n      <td>JP</td>\n      <td>2011-11-21 12:27:00</td>\n      <td>3.0</td>\n      <td>Hotel</td>\n      <td>Pay Later</td>\n      <td>...</td>\n      <td>0.0</td>\n      <td>1.0</td>\n      <td>0.0</td>\n      <td>0.0</td>\n      <td>0.0</td>\n      <td>NaN</td>\n      <td>2379</td>\n      <td>466.0</td>\n      <td>236.0</td>\n      <td>1448</td>\n    </tr>\n    <tr>\n      <th>4</th>\n      <td>-9221127186162682116</td>\n      <td>2018-07-23 10:06:00</td>\n      <td>2018-08-09 00:00:00</td>\n      <td>2018-08-10 00:00:00</td>\n      <td>479046</td>\n      <td>TH</td>\n      <td>2013-06-06 10:04:00</td>\n      <td>3.0</td>\n      <td>Resort</td>\n      <td>Pay Later</td>\n      <td>...</td>\n      <td>0.0</td>\n      <td>1.0</td>\n      <td>0.0</td>\n      <td>0.0</td>\n      <td>0.0</td>\n      <td>2018-07-23</td>\n      <td>1506</td>\n      <td>NaN</td>\n      <td>NaN</td>\n      <td>616</td>\n    </tr>\n  </tbody>\n</table>\n<p>5 rows × 39 columns</p>\n</div>"
     },
     "execution_count": 11,
     "metadata": {},
     "output_type": "execute_result"
    }
   ],
   "source": [
    "df = pd.read_csv(\"AgodaCancellationChallenge/agoda_cancellation_train.csv\")\n",
    "df.head(5)\n"
   ],
   "metadata": {
    "collapsed": false
   }
  },
  {
   "cell_type": "code",
   "execution_count": 16,
   "outputs": [
    {
     "name": "stdout",
     "output_type": "stream",
     "text": [
      "(58659, 39)\n",
      "Index(['h_booking_id', 'booking_datetime', 'checkin_date', 'checkout_date',\n",
      "       'hotel_id', 'hotel_country_code', 'hotel_live_date',\n",
      "       'hotel_star_rating', 'accommadation_type_name', 'charge_option',\n",
      "       'h_customer_id', 'customer_nationality', 'guest_is_not_the_customer',\n",
      "       'guest_nationality_country_name', 'no_of_adults', 'no_of_children',\n",
      "       'no_of_extra_bed', 'no_of_room', 'origin_country_code', 'language',\n",
      "       'original_selling_amount', 'original_payment_method',\n",
      "       'original_payment_type', 'original_payment_currency',\n",
      "       'is_user_logged_in', 'cancellation_policy_code', 'is_first_booking',\n",
      "       'request_nonesmoke', 'request_latecheckin', 'request_highfloor',\n",
      "       'request_largebed', 'request_twinbeds', 'request_airport',\n",
      "       'request_earlycheckin', 'cancellation_datetime', 'hotel_area_code',\n",
      "       'hotel_brand_code', 'hotel_chain_code', 'hotel_city_code'],\n",
      "      dtype='object')\n"
     ]
    }
   ],
   "source": [
    "print(df.shape)\n",
    "print(df.columns)\n"
   ],
   "metadata": {
    "collapsed": false
   }
  },
  {
   "cell_type": "code",
   "execution_count": 13,
   "outputs": [
    {
     "name": "stdout",
     "output_type": "stream",
     "text": [
      "Training set shape: (46927, 38) (46927,)\n",
      "Testing set shape: (11732, 38) (11732,)\n"
     ]
    }
   ],
   "source": [
    "\n",
    "X = df.drop('cancellation_datetime', axis=1)  # Features (input variables)\n",
    "y = df['cancellation_datetime']  # Target variable (output variable)\n",
    "\n",
    "# Splitting the data into training and testing sets\n",
    "X_train, X_test, y_train, y_test = train_test_split(X, y, test_size=0.2, random_state=42)\n",
    "\n",
    "# train_test_split() takes the following arguments:\n",
    "# X: The input features\n",
    "# y: The target variable\n",
    "# test_size: The proportion of the data to be used for testing (0.2 represents 20% for testing)\n",
    "# random_state: A seed value to ensure reproducibility of the split\n",
    "\n",
    "# Printing the shapes of the resulting datasets\n",
    "print(\"Training set shape:\", X_train.shape, y_train.shape)\n",
    "print(\"Testing set shape:\", X_test.shape, y_test.shape)"
   ],
   "metadata": {
    "collapsed": false
   }
  },
  {
   "cell_type": "code",
   "execution_count": 28,
   "outputs": [],
   "source": [
    "# S = np.concatenate([X_train,y_train], axis=1)\n",
    "X_train[y_train.name] = y_train\n",
    "S = X_train"
   ],
   "metadata": {
    "collapsed": false
   }
  },
  {
   "cell_type": "code",
   "execution_count": 29,
   "outputs": [],
   "source": [
    "S.to_csv('train_set_agoda.csv', index=False)"
   ],
   "metadata": {
    "collapsed": false
   }
  },
  {
   "cell_type": "code",
   "execution_count": 21,
   "outputs": [],
   "source": [
    "X_train.to_csv('train_agoda.csv', index=False)\n",
    "X_test.to_csv('test_agoda_freezer.csv', index=False)"
   ],
   "metadata": {
    "collapsed": false
   }
  },
  {
   "cell_type": "code",
   "execution_count": 18,
   "outputs": [
    {
     "data": {
      "text/plain": "       h_booking_id      hotel_id  hotel_star_rating  h_customer_id  \\\ncount  4.692700e+04  4.692700e+04       46927.000000   4.692700e+04   \nmean  -1.748276e+16  1.341713e+06           3.223997   4.508921e+18   \nstd    5.324764e+18  1.361520e+06           1.172263   2.804285e+18   \nmin   -9.223194e+18  1.000000e+00          -1.000000  -9.096408e+18   \n25%   -4.614613e+18  2.558290e+05           3.000000   2.230653e+18   \n50%   -3.206479e+16  7.985350e+05           3.000000   4.548811e+18   \n75%    4.576099e+18  2.284662e+06           4.000000   6.853587e+18   \nmax    9.223338e+18  5.823993e+06           5.000000   9.223335e+18   \n\n       guest_is_not_the_customer  no_of_adults  no_of_children  \\\ncount               46927.000000  46927.000000    46927.000000   \nmean                    0.214269      2.347561        0.148145   \nstd                     0.410319      1.324138        0.529126   \nmin                     0.000000      1.000000        0.000000   \n25%                     0.000000      2.000000        0.000000   \n50%                     0.000000      2.000000        0.000000   \n75%                     0.000000      2.000000        0.000000   \nmax                     1.000000     30.000000       10.000000   \n\n       no_of_extra_bed    no_of_room  original_selling_amount  ...  \\\ncount     46927.000000  46927.000000             46927.000000  ...   \nmean          0.011656      1.140303               219.591818  ...   \nstd           0.116292      0.519045               439.944700  ...   \nmin           0.000000      1.000000                 2.100000  ...   \n25%           0.000000      1.000000                50.585000  ...   \n50%           0.000000      1.000000               107.780000  ...   \n75%           0.000000      1.000000               243.010000  ...   \nmax           5.000000      9.000000             49566.160000  ...   \n\n       request_latecheckin  request_highfloor  request_largebed  \\\ncount         26897.000000       26897.000000      26897.000000   \nmean              0.026100           0.150686          0.390601   \nstd               0.159434           0.357749          0.487894   \nmin               0.000000           0.000000          0.000000   \n25%               0.000000           0.000000          0.000000   \n50%               0.000000           0.000000          0.000000   \n75%               0.000000           0.000000          1.000000   \nmax               1.000000           1.000000          1.000000   \n\n       request_twinbeds  request_airport  request_earlycheckin  \\\ncount      26897.000000     26897.000000          26897.000000   \nmean           0.158865         0.007399              0.033498   \nstd            0.365557         0.085698              0.179937   \nmin            0.000000         0.000000              0.000000   \n25%            0.000000         0.000000              0.000000   \n50%            0.000000         0.000000              0.000000   \n75%            0.000000         0.000000              0.000000   \nmax            1.000000         1.000000              1.000000   \n\n       hotel_area_code  hotel_brand_code  hotel_chain_code  hotel_city_code  \ncount     46927.000000      12228.000000      12584.000000     46927.000000  \nmean       3025.039529        479.074583        357.647807      1498.046583  \nstd        1733.855870        277.616349        208.819048       909.020866  \nmin           1.000000          0.000000          0.000000         0.000000  \n25%        1477.000000        253.000000        181.000000       583.000000  \n50%        3134.000000        481.000000        355.000000      1572.000000  \n75%        4572.000000        741.000000        575.000000      2310.000000  \nmax        5896.000000        936.000000        680.000000      2808.000000  \n\n[8 rows x 21 columns]",
      "text/html": "<div>\n<style scoped>\n    .dataframe tbody tr th:only-of-type {\n        vertical-align: middle;\n    }\n\n    .dataframe tbody tr th {\n        vertical-align: top;\n    }\n\n    .dataframe thead th {\n        text-align: right;\n    }\n</style>\n<table border=\"1\" class=\"dataframe\">\n  <thead>\n    <tr style=\"text-align: right;\">\n      <th></th>\n      <th>h_booking_id</th>\n      <th>hotel_id</th>\n      <th>hotel_star_rating</th>\n      <th>h_customer_id</th>\n      <th>guest_is_not_the_customer</th>\n      <th>no_of_adults</th>\n      <th>no_of_children</th>\n      <th>no_of_extra_bed</th>\n      <th>no_of_room</th>\n      <th>original_selling_amount</th>\n      <th>...</th>\n      <th>request_latecheckin</th>\n      <th>request_highfloor</th>\n      <th>request_largebed</th>\n      <th>request_twinbeds</th>\n      <th>request_airport</th>\n      <th>request_earlycheckin</th>\n      <th>hotel_area_code</th>\n      <th>hotel_brand_code</th>\n      <th>hotel_chain_code</th>\n      <th>hotel_city_code</th>\n    </tr>\n  </thead>\n  <tbody>\n    <tr>\n      <th>count</th>\n      <td>4.692700e+04</td>\n      <td>4.692700e+04</td>\n      <td>46927.000000</td>\n      <td>4.692700e+04</td>\n      <td>46927.000000</td>\n      <td>46927.000000</td>\n      <td>46927.000000</td>\n      <td>46927.000000</td>\n      <td>46927.000000</td>\n      <td>46927.000000</td>\n      <td>...</td>\n      <td>26897.000000</td>\n      <td>26897.000000</td>\n      <td>26897.000000</td>\n      <td>26897.000000</td>\n      <td>26897.000000</td>\n      <td>26897.000000</td>\n      <td>46927.000000</td>\n      <td>12228.000000</td>\n      <td>12584.000000</td>\n      <td>46927.000000</td>\n    </tr>\n    <tr>\n      <th>mean</th>\n      <td>-1.748276e+16</td>\n      <td>1.341713e+06</td>\n      <td>3.223997</td>\n      <td>4.508921e+18</td>\n      <td>0.214269</td>\n      <td>2.347561</td>\n      <td>0.148145</td>\n      <td>0.011656</td>\n      <td>1.140303</td>\n      <td>219.591818</td>\n      <td>...</td>\n      <td>0.026100</td>\n      <td>0.150686</td>\n      <td>0.390601</td>\n      <td>0.158865</td>\n      <td>0.007399</td>\n      <td>0.033498</td>\n      <td>3025.039529</td>\n      <td>479.074583</td>\n      <td>357.647807</td>\n      <td>1498.046583</td>\n    </tr>\n    <tr>\n      <th>std</th>\n      <td>5.324764e+18</td>\n      <td>1.361520e+06</td>\n      <td>1.172263</td>\n      <td>2.804285e+18</td>\n      <td>0.410319</td>\n      <td>1.324138</td>\n      <td>0.529126</td>\n      <td>0.116292</td>\n      <td>0.519045</td>\n      <td>439.944700</td>\n      <td>...</td>\n      <td>0.159434</td>\n      <td>0.357749</td>\n      <td>0.487894</td>\n      <td>0.365557</td>\n      <td>0.085698</td>\n      <td>0.179937</td>\n      <td>1733.855870</td>\n      <td>277.616349</td>\n      <td>208.819048</td>\n      <td>909.020866</td>\n    </tr>\n    <tr>\n      <th>min</th>\n      <td>-9.223194e+18</td>\n      <td>1.000000e+00</td>\n      <td>-1.000000</td>\n      <td>-9.096408e+18</td>\n      <td>0.000000</td>\n      <td>1.000000</td>\n      <td>0.000000</td>\n      <td>0.000000</td>\n      <td>1.000000</td>\n      <td>2.100000</td>\n      <td>...</td>\n      <td>0.000000</td>\n      <td>0.000000</td>\n      <td>0.000000</td>\n      <td>0.000000</td>\n      <td>0.000000</td>\n      <td>0.000000</td>\n      <td>1.000000</td>\n      <td>0.000000</td>\n      <td>0.000000</td>\n      <td>0.000000</td>\n    </tr>\n    <tr>\n      <th>25%</th>\n      <td>-4.614613e+18</td>\n      <td>2.558290e+05</td>\n      <td>3.000000</td>\n      <td>2.230653e+18</td>\n      <td>0.000000</td>\n      <td>2.000000</td>\n      <td>0.000000</td>\n      <td>0.000000</td>\n      <td>1.000000</td>\n      <td>50.585000</td>\n      <td>...</td>\n      <td>0.000000</td>\n      <td>0.000000</td>\n      <td>0.000000</td>\n      <td>0.000000</td>\n      <td>0.000000</td>\n      <td>0.000000</td>\n      <td>1477.000000</td>\n      <td>253.000000</td>\n      <td>181.000000</td>\n      <td>583.000000</td>\n    </tr>\n    <tr>\n      <th>50%</th>\n      <td>-3.206479e+16</td>\n      <td>7.985350e+05</td>\n      <td>3.000000</td>\n      <td>4.548811e+18</td>\n      <td>0.000000</td>\n      <td>2.000000</td>\n      <td>0.000000</td>\n      <td>0.000000</td>\n      <td>1.000000</td>\n      <td>107.780000</td>\n      <td>...</td>\n      <td>0.000000</td>\n      <td>0.000000</td>\n      <td>0.000000</td>\n      <td>0.000000</td>\n      <td>0.000000</td>\n      <td>0.000000</td>\n      <td>3134.000000</td>\n      <td>481.000000</td>\n      <td>355.000000</td>\n      <td>1572.000000</td>\n    </tr>\n    <tr>\n      <th>75%</th>\n      <td>4.576099e+18</td>\n      <td>2.284662e+06</td>\n      <td>4.000000</td>\n      <td>6.853587e+18</td>\n      <td>0.000000</td>\n      <td>2.000000</td>\n      <td>0.000000</td>\n      <td>0.000000</td>\n      <td>1.000000</td>\n      <td>243.010000</td>\n      <td>...</td>\n      <td>0.000000</td>\n      <td>0.000000</td>\n      <td>1.000000</td>\n      <td>0.000000</td>\n      <td>0.000000</td>\n      <td>0.000000</td>\n      <td>4572.000000</td>\n      <td>741.000000</td>\n      <td>575.000000</td>\n      <td>2310.000000</td>\n    </tr>\n    <tr>\n      <th>max</th>\n      <td>9.223338e+18</td>\n      <td>5.823993e+06</td>\n      <td>5.000000</td>\n      <td>9.223335e+18</td>\n      <td>1.000000</td>\n      <td>30.000000</td>\n      <td>10.000000</td>\n      <td>5.000000</td>\n      <td>9.000000</td>\n      <td>49566.160000</td>\n      <td>...</td>\n      <td>1.000000</td>\n      <td>1.000000</td>\n      <td>1.000000</td>\n      <td>1.000000</td>\n      <td>1.000000</td>\n      <td>1.000000</td>\n      <td>5896.000000</td>\n      <td>936.000000</td>\n      <td>680.000000</td>\n      <td>2808.000000</td>\n    </tr>\n  </tbody>\n</table>\n<p>8 rows × 21 columns</p>\n</div>"
     },
     "execution_count": 18,
     "metadata": {},
     "output_type": "execute_result"
    }
   ],
   "source": [
    "X_train.describe()"
   ],
   "metadata": {
    "collapsed": false
   }
  },
  {
   "cell_type": "code",
   "execution_count": 23,
   "outputs": [
    {
     "data": {
      "text/plain": "Index(['h_booking_id', 'booking_datetime', 'checkin_date', 'checkout_date',\n       'hotel_id', 'hotel_country_code', 'hotel_live_date',\n       'hotel_star_rating', 'accommadation_type_name', 'charge_option',\n       'h_customer_id', 'customer_nationality', 'guest_is_not_the_customer',\n       'guest_nationality_country_name', 'no_of_adults', 'no_of_children',\n       'no_of_extra_bed', 'no_of_room', 'origin_country_code', 'language',\n       'original_selling_amount', 'original_payment_method',\n       'original_payment_type', 'original_payment_currency',\n       'is_user_logged_in', 'cancellation_policy_code', 'is_first_booking',\n       'request_nonesmoke', 'request_latecheckin', 'request_highfloor',\n       'request_largebed', 'request_twinbeds', 'request_airport',\n       'request_earlycheckin', 'hotel_area_code', 'hotel_brand_code',\n       'hotel_chain_code', 'hotel_city_code'],\n      dtype='object')"
     },
     "execution_count": 23,
     "metadata": {},
     "output_type": "execute_result"
    }
   ],
   "source": [
    "X_train.columns"
   ],
   "metadata": {
    "collapsed": false
   }
  }
 ],
 "metadata": {
  "kernelspec": {
   "display_name": "Python 3",
   "language": "python",
   "name": "python3"
  },
  "language_info": {
   "codemirror_mode": {
    "name": "ipython",
    "version": 2
   },
   "file_extension": ".py",
   "mimetype": "text/x-python",
   "name": "python",
   "nbconvert_exporter": "python",
   "pygments_lexer": "ipython2",
   "version": "2.7.6"
  }
 },
 "nbformat": 4,
 "nbformat_minor": 0
}
