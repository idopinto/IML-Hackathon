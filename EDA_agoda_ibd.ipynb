{
 "cells": [
  {
   "cell_type": "code",
   "execution_count": 1,
   "metadata": {
    "collapsed": true,
    "ExecuteTime": {
     "start_time": "2023-06-07T23:28:52.248151Z",
     "end_time": "2023-06-07T23:28:55.344217Z"
    }
   },
   "outputs": [],
   "source": [
    "import numpy as np\n",
    "import pandas as pd\n",
    "from matplotlib import pyplot as plt\n",
    "from sklearn.model_selection import train_test_split\n",
    "from ydata_profiling import ProfileReport"
   ]
  },
  {
   "cell_type": "code",
   "execution_count": 3,
   "outputs": [
    {
     "data": {
      "text/plain": "          h_booking_id     booking_datetime         checkin_date  \\\n0  7861445258918608962  2017-10-21 19:26:00  2018-07-31 00:00:00   \n1 -3175925110616170919  2018-08-10 15:40:00  2018-08-10 00:00:00   \n2 -5166200042028380517  2018-09-14 21:56:00  2018-09-14 00:00:00   \n3  6165211278500849566  2018-09-13 13:34:00  2018-09-13 00:00:00   \n4 -1853092131420973567  2018-02-01 20:44:00  2018-08-31 00:00:00   \n\n         checkout_date  hotel_id hotel_country_code      hotel_live_date  \\\n0  2018-08-01 00:00:00     88838                 AU  2012-10-04 10:03:00   \n1  2018-08-11 00:00:00     51920                 JP  2012-10-01 10:03:00   \n2  2018-09-15 00:00:00     90189                 TW  2014-06-12 08:05:00   \n3  2018-09-14 00:00:00    236389                 TR  2010-08-31 07:16:00   \n4  2018-09-02 00:00:00    187085                 JP  2010-07-01 07:38:00   \n\n   hotel_star_rating        accommadation_type_name charge_option  ...  \\\n0                4.0                         Resort       Pay Now  ...   \n1                3.0                          Hotel       Pay Now  ...   \n2                4.0                          Hotel       Pay Now  ...   \n3                0.0  Guest House / Bed & Breakfast       Pay Now  ...   \n4                3.5                          Hotel     Pay Later  ...   \n\n   request_highfloor request_largebed  request_twinbeds request_airport  \\\n0                0.0              0.0               0.0             0.0   \n1                NaN              NaN               NaN             NaN   \n2                NaN              NaN               NaN             NaN   \n3                0.0              1.0               0.0             0.0   \n4                0.0              0.0               0.0             0.0   \n\n   request_earlycheckin  hotel_area_code  hotel_brand_code  hotel_chain_code  \\\n0                   0.0             5832              50.0             675.0   \n1                   NaN              643             296.0             191.0   \n2                   NaN             2900               NaN               NaN   \n3                   0.0             3110               NaN               NaN   \n4                   0.0             3760             453.0             359.0   \n\n  hotel_city_code cancellation_datetime  \n0             461                   NaN  \n1            2249                   NaN  \n2             892                   NaN  \n3             744                   NaN  \n4            2260            2018-02-02  \n\n[5 rows x 39 columns]",
      "text/html": "<div>\n<style scoped>\n    .dataframe tbody tr th:only-of-type {\n        vertical-align: middle;\n    }\n\n    .dataframe tbody tr th {\n        vertical-align: top;\n    }\n\n    .dataframe thead th {\n        text-align: right;\n    }\n</style>\n<table border=\"1\" class=\"dataframe\">\n  <thead>\n    <tr style=\"text-align: right;\">\n      <th></th>\n      <th>h_booking_id</th>\n      <th>booking_datetime</th>\n      <th>checkin_date</th>\n      <th>checkout_date</th>\n      <th>hotel_id</th>\n      <th>hotel_country_code</th>\n      <th>hotel_live_date</th>\n      <th>hotel_star_rating</th>\n      <th>accommadation_type_name</th>\n      <th>charge_option</th>\n      <th>...</th>\n      <th>request_highfloor</th>\n      <th>request_largebed</th>\n      <th>request_twinbeds</th>\n      <th>request_airport</th>\n      <th>request_earlycheckin</th>\n      <th>hotel_area_code</th>\n      <th>hotel_brand_code</th>\n      <th>hotel_chain_code</th>\n      <th>hotel_city_code</th>\n      <th>cancellation_datetime</th>\n    </tr>\n  </thead>\n  <tbody>\n    <tr>\n      <th>0</th>\n      <td>7861445258918608962</td>\n      <td>2017-10-21 19:26:00</td>\n      <td>2018-07-31 00:00:00</td>\n      <td>2018-08-01 00:00:00</td>\n      <td>88838</td>\n      <td>AU</td>\n      <td>2012-10-04 10:03:00</td>\n      <td>4.0</td>\n      <td>Resort</td>\n      <td>Pay Now</td>\n      <td>...</td>\n      <td>0.0</td>\n      <td>0.0</td>\n      <td>0.0</td>\n      <td>0.0</td>\n      <td>0.0</td>\n      <td>5832</td>\n      <td>50.0</td>\n      <td>675.0</td>\n      <td>461</td>\n      <td>NaN</td>\n    </tr>\n    <tr>\n      <th>1</th>\n      <td>-3175925110616170919</td>\n      <td>2018-08-10 15:40:00</td>\n      <td>2018-08-10 00:00:00</td>\n      <td>2018-08-11 00:00:00</td>\n      <td>51920</td>\n      <td>JP</td>\n      <td>2012-10-01 10:03:00</td>\n      <td>3.0</td>\n      <td>Hotel</td>\n      <td>Pay Now</td>\n      <td>...</td>\n      <td>NaN</td>\n      <td>NaN</td>\n      <td>NaN</td>\n      <td>NaN</td>\n      <td>NaN</td>\n      <td>643</td>\n      <td>296.0</td>\n      <td>191.0</td>\n      <td>2249</td>\n      <td>NaN</td>\n    </tr>\n    <tr>\n      <th>2</th>\n      <td>-5166200042028380517</td>\n      <td>2018-09-14 21:56:00</td>\n      <td>2018-09-14 00:00:00</td>\n      <td>2018-09-15 00:00:00</td>\n      <td>90189</td>\n      <td>TW</td>\n      <td>2014-06-12 08:05:00</td>\n      <td>4.0</td>\n      <td>Hotel</td>\n      <td>Pay Now</td>\n      <td>...</td>\n      <td>NaN</td>\n      <td>NaN</td>\n      <td>NaN</td>\n      <td>NaN</td>\n      <td>NaN</td>\n      <td>2900</td>\n      <td>NaN</td>\n      <td>NaN</td>\n      <td>892</td>\n      <td>NaN</td>\n    </tr>\n    <tr>\n      <th>3</th>\n      <td>6165211278500849566</td>\n      <td>2018-09-13 13:34:00</td>\n      <td>2018-09-13 00:00:00</td>\n      <td>2018-09-14 00:00:00</td>\n      <td>236389</td>\n      <td>TR</td>\n      <td>2010-08-31 07:16:00</td>\n      <td>0.0</td>\n      <td>Guest House / Bed &amp; Breakfast</td>\n      <td>Pay Now</td>\n      <td>...</td>\n      <td>0.0</td>\n      <td>1.0</td>\n      <td>0.0</td>\n      <td>0.0</td>\n      <td>0.0</td>\n      <td>3110</td>\n      <td>NaN</td>\n      <td>NaN</td>\n      <td>744</td>\n      <td>NaN</td>\n    </tr>\n    <tr>\n      <th>4</th>\n      <td>-1853092131420973567</td>\n      <td>2018-02-01 20:44:00</td>\n      <td>2018-08-31 00:00:00</td>\n      <td>2018-09-02 00:00:00</td>\n      <td>187085</td>\n      <td>JP</td>\n      <td>2010-07-01 07:38:00</td>\n      <td>3.5</td>\n      <td>Hotel</td>\n      <td>Pay Later</td>\n      <td>...</td>\n      <td>0.0</td>\n      <td>0.0</td>\n      <td>0.0</td>\n      <td>0.0</td>\n      <td>0.0</td>\n      <td>3760</td>\n      <td>453.0</td>\n      <td>359.0</td>\n      <td>2260</td>\n      <td>2018-02-02</td>\n    </tr>\n  </tbody>\n</table>\n<p>5 rows × 39 columns</p>\n</div>"
     },
     "execution_count": 3,
     "metadata": {},
     "output_type": "execute_result"
    }
   ],
   "source": [
    "df = pd.read_csv(\"Datasets/train_set_agoda.csv\")\n",
    "\n",
    "df.head()"
   ],
   "metadata": {
    "collapsed": false,
    "ExecuteTime": {
     "start_time": "2023-06-07T23:29:39.404205Z",
     "end_time": "2023-06-07T23:29:39.839898Z"
    }
   }
  },
  {
   "cell_type": "code",
   "execution_count": 7,
   "outputs": [
    {
     "data": {
      "text/plain": "          h_booking_id     booking_datetime         checkin_date  \\\n0  7861445258918608962  2017-10-21 19:26:00  2018-07-31 00:00:00   \n1 -3175925110616170919  2018-08-10 15:40:00  2018-08-10 00:00:00   \n2 -5166200042028380517  2018-09-14 21:56:00  2018-09-14 00:00:00   \n3  6165211278500849566  2018-09-13 13:34:00  2018-09-13 00:00:00   \n4 -1853092131420973567  2018-02-01 20:44:00  2018-08-31 00:00:00   \n\n         checkout_date  hotel_id hotel_country_code      hotel_live_date  \\\n0  2018-08-01 00:00:00     88838                 AU  2012-10-04 10:03:00   \n1  2018-08-11 00:00:00     51920                 JP  2012-10-01 10:03:00   \n2  2018-09-15 00:00:00     90189                 TW  2014-06-12 08:05:00   \n3  2018-09-14 00:00:00    236389                 TR  2010-08-31 07:16:00   \n4  2018-09-02 00:00:00    187085                 JP  2010-07-01 07:38:00   \n\n   hotel_star_rating        accommadation_type_name charge_option  ...  \\\n0                4.0                         Resort       Pay Now  ...   \n1                3.0                          Hotel       Pay Now  ...   \n2                4.0                          Hotel       Pay Now  ...   \n3                0.0  Guest House / Bed & Breakfast       Pay Now  ...   \n4                3.5                          Hotel     Pay Later  ...   \n\n   request_largebed request_twinbeds  request_airport request_earlycheckin  \\\n0               0.0              0.0              0.0                  0.0   \n1               NaN              NaN              NaN                  NaN   \n2               NaN              NaN              NaN                  NaN   \n3               1.0              0.0              0.0                  0.0   \n4               0.0              0.0              0.0                  0.0   \n\n   hotel_area_code  hotel_brand_code  hotel_chain_code  hotel_city_code  \\\n0             5832              50.0             675.0              461   \n1              643             296.0             191.0             2249   \n2             2900               NaN               NaN              892   \n3             3110               NaN               NaN              744   \n4             3760             453.0             359.0             2260   \n\n  cancellation_datetime  label  \n0                   NaN   True  \n1                   NaN   True  \n2                   NaN   True  \n3                   NaN   True  \n4            2018-02-02  False  \n\n[5 rows x 40 columns]",
      "text/html": "<div>\n<style scoped>\n    .dataframe tbody tr th:only-of-type {\n        vertical-align: middle;\n    }\n\n    .dataframe tbody tr th {\n        vertical-align: top;\n    }\n\n    .dataframe thead th {\n        text-align: right;\n    }\n</style>\n<table border=\"1\" class=\"dataframe\">\n  <thead>\n    <tr style=\"text-align: right;\">\n      <th></th>\n      <th>h_booking_id</th>\n      <th>booking_datetime</th>\n      <th>checkin_date</th>\n      <th>checkout_date</th>\n      <th>hotel_id</th>\n      <th>hotel_country_code</th>\n      <th>hotel_live_date</th>\n      <th>hotel_star_rating</th>\n      <th>accommadation_type_name</th>\n      <th>charge_option</th>\n      <th>...</th>\n      <th>request_largebed</th>\n      <th>request_twinbeds</th>\n      <th>request_airport</th>\n      <th>request_earlycheckin</th>\n      <th>hotel_area_code</th>\n      <th>hotel_brand_code</th>\n      <th>hotel_chain_code</th>\n      <th>hotel_city_code</th>\n      <th>cancellation_datetime</th>\n      <th>label</th>\n    </tr>\n  </thead>\n  <tbody>\n    <tr>\n      <th>0</th>\n      <td>7861445258918608962</td>\n      <td>2017-10-21 19:26:00</td>\n      <td>2018-07-31 00:00:00</td>\n      <td>2018-08-01 00:00:00</td>\n      <td>88838</td>\n      <td>AU</td>\n      <td>2012-10-04 10:03:00</td>\n      <td>4.0</td>\n      <td>Resort</td>\n      <td>Pay Now</td>\n      <td>...</td>\n      <td>0.0</td>\n      <td>0.0</td>\n      <td>0.0</td>\n      <td>0.0</td>\n      <td>5832</td>\n      <td>50.0</td>\n      <td>675.0</td>\n      <td>461</td>\n      <td>NaN</td>\n      <td>True</td>\n    </tr>\n    <tr>\n      <th>1</th>\n      <td>-3175925110616170919</td>\n      <td>2018-08-10 15:40:00</td>\n      <td>2018-08-10 00:00:00</td>\n      <td>2018-08-11 00:00:00</td>\n      <td>51920</td>\n      <td>JP</td>\n      <td>2012-10-01 10:03:00</td>\n      <td>3.0</td>\n      <td>Hotel</td>\n      <td>Pay Now</td>\n      <td>...</td>\n      <td>NaN</td>\n      <td>NaN</td>\n      <td>NaN</td>\n      <td>NaN</td>\n      <td>643</td>\n      <td>296.0</td>\n      <td>191.0</td>\n      <td>2249</td>\n      <td>NaN</td>\n      <td>True</td>\n    </tr>\n    <tr>\n      <th>2</th>\n      <td>-5166200042028380517</td>\n      <td>2018-09-14 21:56:00</td>\n      <td>2018-09-14 00:00:00</td>\n      <td>2018-09-15 00:00:00</td>\n      <td>90189</td>\n      <td>TW</td>\n      <td>2014-06-12 08:05:00</td>\n      <td>4.0</td>\n      <td>Hotel</td>\n      <td>Pay Now</td>\n      <td>...</td>\n      <td>NaN</td>\n      <td>NaN</td>\n      <td>NaN</td>\n      <td>NaN</td>\n      <td>2900</td>\n      <td>NaN</td>\n      <td>NaN</td>\n      <td>892</td>\n      <td>NaN</td>\n      <td>True</td>\n    </tr>\n    <tr>\n      <th>3</th>\n      <td>6165211278500849566</td>\n      <td>2018-09-13 13:34:00</td>\n      <td>2018-09-13 00:00:00</td>\n      <td>2018-09-14 00:00:00</td>\n      <td>236389</td>\n      <td>TR</td>\n      <td>2010-08-31 07:16:00</td>\n      <td>0.0</td>\n      <td>Guest House / Bed &amp; Breakfast</td>\n      <td>Pay Now</td>\n      <td>...</td>\n      <td>1.0</td>\n      <td>0.0</td>\n      <td>0.0</td>\n      <td>0.0</td>\n      <td>3110</td>\n      <td>NaN</td>\n      <td>NaN</td>\n      <td>744</td>\n      <td>NaN</td>\n      <td>True</td>\n    </tr>\n    <tr>\n      <th>4</th>\n      <td>-1853092131420973567</td>\n      <td>2018-02-01 20:44:00</td>\n      <td>2018-08-31 00:00:00</td>\n      <td>2018-09-02 00:00:00</td>\n      <td>187085</td>\n      <td>JP</td>\n      <td>2010-07-01 07:38:00</td>\n      <td>3.5</td>\n      <td>Hotel</td>\n      <td>Pay Later</td>\n      <td>...</td>\n      <td>0.0</td>\n      <td>0.0</td>\n      <td>0.0</td>\n      <td>0.0</td>\n      <td>3760</td>\n      <td>453.0</td>\n      <td>359.0</td>\n      <td>2260</td>\n      <td>2018-02-02</td>\n      <td>False</td>\n    </tr>\n  </tbody>\n</table>\n<p>5 rows × 40 columns</p>\n</div>"
     },
     "execution_count": 7,
     "metadata": {},
     "output_type": "execute_result"
    }
   ],
   "source": [
    "df['label'] = df['cancellation_datetime'].isna()\n",
    "df.head()"
   ],
   "metadata": {
    "collapsed": false,
    "ExecuteTime": {
     "start_time": "2023-06-07T23:32:55.582307Z",
     "end_time": "2023-06-07T23:32:55.624903Z"
    }
   }
  },
  {
   "cell_type": "code",
   "execution_count": 8,
   "outputs": [
    {
     "data": {
      "text/plain": "Summarize dataset:   0%|          | 0/5 [00:00<?, ?it/s]",
      "application/vnd.jupyter.widget-view+json": {
       "version_major": 2,
       "version_minor": 0,
       "model_id": "49eb33306bbe4e57b9ea7fc9cb4377ae"
      },
      "application/json": {
       "n": 0,
       "total": 5,
       "elapsed": 0.01595759391784668,
       "ncols": null,
       "nrows": null,
       "prefix": "Summarize dataset",
       "ascii": false,
       "unit": "it",
       "unit_scale": false,
       "rate": null,
       "bar_format": null,
       "postfix": null,
       "unit_divisor": 1000,
       "initial": 0,
       "colour": null
      }
     },
     "metadata": {},
     "output_type": "display_data"
    },
    {
     "name": "stderr",
     "output_type": "stream",
     "text": [
      "c:\\users\\asus\\appdata\\local\\programs\\python\\python39\\lib\\site-packages\\ydata_profiling\\model\\pandas\\describe_numeric_pandas.py:122: RuntimeWarning: overflow encountered in longlong_scalars\n",
      "  stats[\"range\"] = stats[\"max\"] - stats[\"min\"]\n",
      "c:\\users\\asus\\appdata\\local\\programs\\python\\python39\\lib\\site-packages\\ydata_profiling\\model\\pandas\\describe_numeric_pandas.py:122: RuntimeWarning: overflow encountered in longlong_scalars\n",
      "  stats[\"range\"] = stats[\"max\"] - stats[\"min\"]\n"
     ]
    },
    {
     "data": {
      "text/plain": "Generate report structure:   0%|          | 0/1 [00:00<?, ?it/s]",
      "application/vnd.jupyter.widget-view+json": {
       "version_major": 2,
       "version_minor": 0,
       "model_id": "39754abf151149d3804b044d3d6ace2b"
      },
      "application/json": {
       "n": 0,
       "total": 1,
       "elapsed": 0.005024909973144531,
       "ncols": null,
       "nrows": null,
       "prefix": "Generate report structure",
       "ascii": false,
       "unit": "it",
       "unit_scale": false,
       "rate": null,
       "bar_format": null,
       "postfix": null,
       "unit_divisor": 1000,
       "initial": 0,
       "colour": null
      }
     },
     "metadata": {},
     "output_type": "display_data"
    },
    {
     "data": {
      "text/plain": "Render HTML:   0%|          | 0/1 [00:00<?, ?it/s]",
      "application/vnd.jupyter.widget-view+json": {
       "version_major": 2,
       "version_minor": 0,
       "model_id": "b605579e4ffd40d789455b685cccb017"
      },
      "application/json": {
       "n": 0,
       "total": 1,
       "elapsed": 0.003989458084106445,
       "ncols": null,
       "nrows": null,
       "prefix": "Render HTML",
       "ascii": false,
       "unit": "it",
       "unit_scale": false,
       "rate": null,
       "bar_format": null,
       "postfix": null,
       "unit_divisor": 1000,
       "initial": 0,
       "colour": null
      }
     },
     "metadata": {},
     "output_type": "display_data"
    },
    {
     "data": {
      "text/plain": "Export report to file:   0%|          | 0/1 [00:00<?, ?it/s]",
      "application/vnd.jupyter.widget-view+json": {
       "version_major": 2,
       "version_minor": 0,
       "model_id": "405fe4e26cfc460dacaaa352b4458c42"
      },
      "application/json": {
       "n": 0,
       "total": 1,
       "elapsed": 0.004986286163330078,
       "ncols": null,
       "nrows": null,
       "prefix": "Export report to file",
       "ascii": false,
       "unit": "it",
       "unit_scale": false,
       "rate": null,
       "bar_format": null,
       "postfix": null,
       "unit_divisor": 1000,
       "initial": 0,
       "colour": null
      }
     },
     "metadata": {},
     "output_type": "display_data"
    }
   ],
   "source": [
    "ProfileReport(df, title=\"Profiling Report\").to_file(\"your_report.html\")"
   ],
   "metadata": {
    "collapsed": false,
    "ExecuteTime": {
     "start_time": "2023-06-07T23:33:04.408110Z",
     "end_time": "2023-06-07T23:34:08.416903Z"
    }
   }
  }
 ],
 "metadata": {
  "kernelspec": {
   "display_name": "Python 3",
   "language": "python",
   "name": "python3"
  },
  "language_info": {
   "codemirror_mode": {
    "name": "ipython",
    "version": 2
   },
   "file_extension": ".py",
   "mimetype": "text/x-python",
   "name": "python",
   "nbconvert_exporter": "python",
   "pygments_lexer": "ipython2",
   "version": "2.7.6"
  }
 },
 "nbformat": 4,
 "nbformat_minor": 0
}
