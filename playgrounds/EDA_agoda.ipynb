{
 "cells": [
  {
   "cell_type": "code",
   "execution_count": 10,
   "metadata": {
    "collapsed": true
   },
   "outputs": [],
   "source": [
    "import numpy as np\n",
    "import pandas as pd\n",
    "from matplotlib import pyplot as plt\n",
    "from sklearn.model_selection import train_test_split\n"
   ]
  },
  {
   "cell_type": "code",
   "execution_count": 11,
   "outputs": [
    {
     "data": {
      "text/plain": "          h_booking_id     booking_datetime         checkin_date  \\\n0 -9223194055642672935  2018-06-28 21:15:00  2018-07-09 00:00:00   \n1 -9222713784330706132  2018-08-10 22:31:00  2018-08-16 00:00:00   \n2 -9222411208325704942  2018-09-14 07:55:00  2018-09-14 00:00:00   \n3 -9222220845872895471  2018-06-25 07:33:00  2018-07-02 00:00:00   \n4 -9221127186162682116  2018-07-23 10:06:00  2018-08-09 00:00:00   \n\n         checkout_date  hotel_id hotel_country_code      hotel_live_date  \\\n0  2018-07-13 00:00:00      6452                 HK  2009-06-28 02:02:00   \n1  2018-08-17 00:00:00     47729                 CN  2011-06-07 11:52:00   \n2  2018-09-15 00:00:00    780431                 KR  2014-11-20 15:43:00   \n3  2018-07-03 00:00:00    291365                 JP  2011-11-21 12:27:00   \n4  2018-08-10 00:00:00    479046                 TH  2013-06-06 10:04:00   \n\n   hotel_star_rating accommadation_type_name charge_option  ...  \\\n0                4.0                   Hotel       Pay Now  ...   \n1                4.0                   Hotel     Pay Later  ...   \n2                4.0                   Hotel       Pay Now  ...   \n3                3.0                   Hotel     Pay Later  ...   \n4                3.0                  Resort     Pay Later  ...   \n\n   request_highfloor request_largebed  request_twinbeds request_airport  \\\n0                NaN              NaN               NaN             NaN   \n1                0.0              0.0               1.0             0.0   \n2                0.0              0.0               0.0             0.0   \n3                0.0              1.0               0.0             0.0   \n4                0.0              1.0               0.0             0.0   \n\n   request_earlycheckin  cancellation_datetime  hotel_area_code  \\\n0                   NaN                    NaN             1192   \n1                   0.0                    NaN             5617   \n2                   0.0                    NaN             3819   \n3                   0.0                    NaN             2379   \n4                   0.0             2018-07-23             1506   \n\n   hotel_brand_code hotel_chain_code hotel_city_code  \n0               NaN              NaN             142  \n1             902.0            600.0            1273  \n2               NaN              NaN            2799  \n3             466.0            236.0            1448  \n4               NaN              NaN             616  \n\n[5 rows x 39 columns]",
      "text/html": "<div>\n<style scoped>\n    .dataframe tbody tr th:only-of-type {\n        vertical-align: middle;\n    }\n\n    .dataframe tbody tr th {\n        vertical-align: top;\n    }\n\n    .dataframe thead th {\n        text-align: right;\n    }\n</style>\n<table border=\"1\" class=\"dataframe\">\n  <thead>\n    <tr style=\"text-align: right;\">\n      <th></th>\n      <th>h_booking_id</th>\n      <th>booking_datetime</th>\n      <th>checkin_date</th>\n      <th>checkout_date</th>\n      <th>hotel_id</th>\n      <th>hotel_country_code</th>\n      <th>hotel_live_date</th>\n      <th>hotel_star_rating</th>\n      <th>accommadation_type_name</th>\n      <th>charge_option</th>\n      <th>...</th>\n      <th>request_highfloor</th>\n      <th>request_largebed</th>\n      <th>request_twinbeds</th>\n      <th>request_airport</th>\n      <th>request_earlycheckin</th>\n      <th>cancellation_datetime</th>\n      <th>hotel_area_code</th>\n      <th>hotel_brand_code</th>\n      <th>hotel_chain_code</th>\n      <th>hotel_city_code</th>\n    </tr>\n  </thead>\n  <tbody>\n    <tr>\n      <th>0</th>\n      <td>-9223194055642672935</td>\n      <td>2018-06-28 21:15:00</td>\n      <td>2018-07-09 00:00:00</td>\n      <td>2018-07-13 00:00:00</td>\n      <td>6452</td>\n      <td>HK</td>\n      <td>2009-06-28 02:02:00</td>\n      <td>4.0</td>\n      <td>Hotel</td>\n      <td>Pay Now</td>\n      <td>...</td>\n      <td>NaN</td>\n      <td>NaN</td>\n      <td>NaN</td>\n      <td>NaN</td>\n      <td>NaN</td>\n      <td>NaN</td>\n      <td>1192</td>\n      <td>NaN</td>\n      <td>NaN</td>\n      <td>142</td>\n    </tr>\n    <tr>\n      <th>1</th>\n      <td>-9222713784330706132</td>\n      <td>2018-08-10 22:31:00</td>\n      <td>2018-08-16 00:00:00</td>\n      <td>2018-08-17 00:00:00</td>\n      <td>47729</td>\n      <td>CN</td>\n      <td>2011-06-07 11:52:00</td>\n      <td>4.0</td>\n      <td>Hotel</td>\n      <td>Pay Later</td>\n      <td>...</td>\n      <td>0.0</td>\n      <td>0.0</td>\n      <td>1.0</td>\n      <td>0.0</td>\n      <td>0.0</td>\n      <td>NaN</td>\n      <td>5617</td>\n      <td>902.0</td>\n      <td>600.0</td>\n      <td>1273</td>\n    </tr>\n    <tr>\n      <th>2</th>\n      <td>-9222411208325704942</td>\n      <td>2018-09-14 07:55:00</td>\n      <td>2018-09-14 00:00:00</td>\n      <td>2018-09-15 00:00:00</td>\n      <td>780431</td>\n      <td>KR</td>\n      <td>2014-11-20 15:43:00</td>\n      <td>4.0</td>\n      <td>Hotel</td>\n      <td>Pay Now</td>\n      <td>...</td>\n      <td>0.0</td>\n      <td>0.0</td>\n      <td>0.0</td>\n      <td>0.0</td>\n      <td>0.0</td>\n      <td>NaN</td>\n      <td>3819</td>\n      <td>NaN</td>\n      <td>NaN</td>\n      <td>2799</td>\n    </tr>\n    <tr>\n      <th>3</th>\n      <td>-9222220845872895471</td>\n      <td>2018-06-25 07:33:00</td>\n      <td>2018-07-02 00:00:00</td>\n      <td>2018-07-03 00:00:00</td>\n      <td>291365</td>\n      <td>JP</td>\n      <td>2011-11-21 12:27:00</td>\n      <td>3.0</td>\n      <td>Hotel</td>\n      <td>Pay Later</td>\n      <td>...</td>\n      <td>0.0</td>\n      <td>1.0</td>\n      <td>0.0</td>\n      <td>0.0</td>\n      <td>0.0</td>\n      <td>NaN</td>\n      <td>2379</td>\n      <td>466.0</td>\n      <td>236.0</td>\n      <td>1448</td>\n    </tr>\n    <tr>\n      <th>4</th>\n      <td>-9221127186162682116</td>\n      <td>2018-07-23 10:06:00</td>\n      <td>2018-08-09 00:00:00</td>\n      <td>2018-08-10 00:00:00</td>\n      <td>479046</td>\n      <td>TH</td>\n      <td>2013-06-06 10:04:00</td>\n      <td>3.0</td>\n      <td>Resort</td>\n      <td>Pay Later</td>\n      <td>...</td>\n      <td>0.0</td>\n      <td>1.0</td>\n      <td>0.0</td>\n      <td>0.0</td>\n      <td>0.0</td>\n      <td>2018-07-23</td>\n      <td>1506</td>\n      <td>NaN</td>\n      <td>NaN</td>\n      <td>616</td>\n    </tr>\n  </tbody>\n</table>\n<p>5 rows × 39 columns</p>\n</div>"
     },
     "execution_count": 11,
     "metadata": {},
     "output_type": "execute_result"
    }
   ],
   "source": [
    "df = pd.read_csv(\"AgodaCancellationChallenge/agoda_cancellation_train.csv\")\n",
    "df.head(5)\n"
   ],
   "metadata": {
    "collapsed": false
   }
  },
  {
   "cell_type": "code",
   "execution_count": 16,
   "outputs": [
    {
     "name": "stdout",
     "output_type": "stream",
     "text": [
      "(58659, 39)\n",
      "Index(['h_booking_id', 'booking_datetime', 'checkin_date', 'checkout_date',\n",
      "       'hotel_id', 'hotel_country_code', 'hotel_live_date',\n",
      "       'hotel_star_rating', 'accommadation_type_name', 'charge_option',\n",
      "       'h_customer_id', 'customer_nationality', 'guest_is_not_the_customer',\n",
      "       'guest_nationality_country_name', 'no_of_adults', 'no_of_children',\n",
      "       'no_of_extra_bed', 'no_of_room', 'origin_country_code', 'language',\n",
      "       'original_selling_amount', 'original_payment_method',\n",
      "       'original_payment_type', 'original_payment_currency',\n",
      "       'is_user_logged_in', 'cancellation_policy_code', 'is_first_booking',\n",
      "       'request_nonesmoke', 'request_latecheckin', 'request_highfloor',\n",
      "       'request_largebed', 'request_twinbeds', 'request_airport',\n",
      "       'request_earlycheckin', 'cancellation_datetime', 'hotel_area_code',\n",
      "       'hotel_brand_code', 'hotel_chain_code', 'hotel_city_code'],\n",
      "      dtype='object')\n"
     ]
    }
   ],
   "source": [
    "print(df.shape)\n",
    "print(df.columns)\n"
   ],
   "metadata": {
    "collapsed": false
   }
  },
  {
   "cell_type": "code",
   "execution_count": 13,
   "outputs": [
    {
     "name": "stdout",
     "output_type": "stream",
     "text": [
      "Training set shape: (46927, 38) (46927,)\n",
      "Testing set shape: (11732, 38) (11732,)\n"
     ]
    }
   ],
   "source": [
    "X = df.drop('cancellation_datetime', axis=1)  # Features (input variables)\n",
    "y = df['cancellation_datetime']  # Target variable (output variable)\n",
    "\n",
    "# Splitting the data into training and testing sets\n",
    "X_train, X_test, y_train, y_test = train_test_split(X, y, test_size=0.2, random_state=42)\n",
    "\n",
    "# Printing the shapes of the resulting datasets\n",
    "print(\"Training set shape:\", X_train.shape, y_train.shape)\n",
    "print(\"Testing set shape:\", X_test.shape, y_test.shape)"
   ],
   "metadata": {
    "collapsed": false
   }
  },
  {
   "cell_type": "code",
   "execution_count": 71,
   "outputs": [],
   "source": [
    "X_train[y_train.name] = y_train\n",
    "X_test[y_test.name] = y_test\n",
    "S_train = X_train\n",
    "S_test = X_test"
   ],
   "metadata": {
    "collapsed": false
   }
  },
  {
   "cell_type": "code",
   "execution_count": 72,
   "outputs": [],
   "source": [
    "S_train.to_csv('train_set_agoda.csv', index=False)\n",
    "S_test.to_csv('test_set_agoda.csv', index=False)"
   ],
   "metadata": {
    "collapsed": false
   }
  },
  {
   "cell_type": "code",
   "execution_count": 73,
   "outputs": [],
   "source": [
    "X_train.to_csv('train_agoda.csv', index=False)\n",
    "X_test.to_csv('test_agoda_freezer.csv', index=False)"
   ],
   "metadata": {
    "collapsed": false
   }
  },
  {
   "cell_type": "code",
   "execution_count": 64,
   "outputs": [],
   "source": [],
   "metadata": {
    "collapsed": false
   }
  },
  {
   "cell_type": "code",
   "execution_count": 76,
   "outputs": [
    {
     "ename": "ValueError",
     "evalue": "could not convert string to float: '2017-10-21 19:26:00'",
     "output_type": "error",
     "traceback": [
      "\u001B[1;31m---------------------------------------------------------------------------\u001B[0m",
      "\u001B[1;31mValueError\u001B[0m                                Traceback (most recent call last)",
      "\u001B[1;32m~\\AppData\\Local\\Temp\\ipykernel_16672\\3452230040.py\u001B[0m in \u001B[0;36m<module>\u001B[1;34m\u001B[0m\n\u001B[0;32m      7\u001B[0m \u001B[0mX\u001B[0m\u001B[1;33m[\u001B[0m\u001B[0mnumerical_cols\u001B[0m\u001B[1;33m]\u001B[0m \u001B[1;33m=\u001B[0m \u001B[0mscaler\u001B[0m\u001B[1;33m.\u001B[0m\u001B[0mfit_transform\u001B[0m\u001B[1;33m(\u001B[0m\u001B[0mX\u001B[0m\u001B[1;33m[\u001B[0m\u001B[0mnumerical_cols\u001B[0m\u001B[1;33m]\u001B[0m\u001B[1;33m)\u001B[0m\u001B[1;33m\u001B[0m\u001B[1;33m\u001B[0m\u001B[0m\n\u001B[0;32m      8\u001B[0m \u001B[0mpca\u001B[0m \u001B[1;33m=\u001B[0m \u001B[0mPCA\u001B[0m\u001B[1;33m(\u001B[0m\u001B[0mn_components\u001B[0m\u001B[1;33m=\u001B[0m\u001B[1;36m2\u001B[0m\u001B[1;33m)\u001B[0m  \u001B[1;31m# Choose the number of components for visualization (e.g., 2 for a 2D plot)\u001B[0m\u001B[1;33m\u001B[0m\u001B[1;33m\u001B[0m\u001B[0m\n\u001B[1;32m----> 9\u001B[1;33m \u001B[0mX_pca\u001B[0m \u001B[1;33m=\u001B[0m \u001B[0mpca\u001B[0m\u001B[1;33m.\u001B[0m\u001B[0mfit_transform\u001B[0m\u001B[1;33m(\u001B[0m\u001B[0mX_train\u001B[0m\u001B[1;33m)\u001B[0m\u001B[1;33m\u001B[0m\u001B[1;33m\u001B[0m\u001B[0m\n\u001B[0m",
      "\u001B[1;32m~\\anaconda3\\envs\\iml.env\\lib\\site-packages\\sklearn\\decomposition\\_pca.py\u001B[0m in \u001B[0;36mfit_transform\u001B[1;34m(self, X, y)\u001B[0m\n\u001B[0;32m    405\u001B[0m         \u001B[0mC\u001B[0m\u001B[1;33m-\u001B[0m\u001B[0mordered\u001B[0m \u001B[0marray\u001B[0m\u001B[1;33m,\u001B[0m \u001B[0muse\u001B[0m \u001B[1;34m'np.ascontiguousarray'\u001B[0m\u001B[1;33m.\u001B[0m\u001B[1;33m\u001B[0m\u001B[1;33m\u001B[0m\u001B[0m\n\u001B[0;32m    406\u001B[0m         \"\"\"\n\u001B[1;32m--> 407\u001B[1;33m         \u001B[0mU\u001B[0m\u001B[1;33m,\u001B[0m \u001B[0mS\u001B[0m\u001B[1;33m,\u001B[0m \u001B[0mVt\u001B[0m \u001B[1;33m=\u001B[0m \u001B[0mself\u001B[0m\u001B[1;33m.\u001B[0m\u001B[0m_fit\u001B[0m\u001B[1;33m(\u001B[0m\u001B[0mX\u001B[0m\u001B[1;33m)\u001B[0m\u001B[1;33m\u001B[0m\u001B[1;33m\u001B[0m\u001B[0m\n\u001B[0m\u001B[0;32m    408\u001B[0m         \u001B[0mU\u001B[0m \u001B[1;33m=\u001B[0m \u001B[0mU\u001B[0m\u001B[1;33m[\u001B[0m\u001B[1;33m:\u001B[0m\u001B[1;33m,\u001B[0m \u001B[1;33m:\u001B[0m \u001B[0mself\u001B[0m\u001B[1;33m.\u001B[0m\u001B[0mn_components_\u001B[0m\u001B[1;33m]\u001B[0m\u001B[1;33m\u001B[0m\u001B[1;33m\u001B[0m\u001B[0m\n\u001B[0;32m    409\u001B[0m \u001B[1;33m\u001B[0m\u001B[0m\n",
      "\u001B[1;32m~\\anaconda3\\envs\\iml.env\\lib\\site-packages\\sklearn\\decomposition\\_pca.py\u001B[0m in \u001B[0;36m_fit\u001B[1;34m(self, X)\u001B[0m\n\u001B[0;32m    429\u001B[0m \u001B[1;33m\u001B[0m\u001B[0m\n\u001B[0;32m    430\u001B[0m         X = self._validate_data(\n\u001B[1;32m--> 431\u001B[1;33m             \u001B[0mX\u001B[0m\u001B[1;33m,\u001B[0m \u001B[0mdtype\u001B[0m\u001B[1;33m=\u001B[0m\u001B[1;33m[\u001B[0m\u001B[0mnp\u001B[0m\u001B[1;33m.\u001B[0m\u001B[0mfloat64\u001B[0m\u001B[1;33m,\u001B[0m \u001B[0mnp\u001B[0m\u001B[1;33m.\u001B[0m\u001B[0mfloat32\u001B[0m\u001B[1;33m]\u001B[0m\u001B[1;33m,\u001B[0m \u001B[0mensure_2d\u001B[0m\u001B[1;33m=\u001B[0m\u001B[1;32mTrue\u001B[0m\u001B[1;33m,\u001B[0m \u001B[0mcopy\u001B[0m\u001B[1;33m=\u001B[0m\u001B[0mself\u001B[0m\u001B[1;33m.\u001B[0m\u001B[0mcopy\u001B[0m\u001B[1;33m\u001B[0m\u001B[1;33m\u001B[0m\u001B[0m\n\u001B[0m\u001B[0;32m    432\u001B[0m         )\n\u001B[0;32m    433\u001B[0m \u001B[1;33m\u001B[0m\u001B[0m\n",
      "\u001B[1;32m~\\anaconda3\\envs\\iml.env\\lib\\site-packages\\sklearn\\base.py\u001B[0m in \u001B[0;36m_validate_data\u001B[1;34m(self, X, y, reset, validate_separately, **check_params)\u001B[0m\n\u001B[0;32m    564\u001B[0m             \u001B[1;32mraise\u001B[0m \u001B[0mValueError\u001B[0m\u001B[1;33m(\u001B[0m\u001B[1;34m\"Validation should be done on X, y or both.\"\u001B[0m\u001B[1;33m)\u001B[0m\u001B[1;33m\u001B[0m\u001B[1;33m\u001B[0m\u001B[0m\n\u001B[0;32m    565\u001B[0m         \u001B[1;32melif\u001B[0m \u001B[1;32mnot\u001B[0m \u001B[0mno_val_X\u001B[0m \u001B[1;32mand\u001B[0m \u001B[0mno_val_y\u001B[0m\u001B[1;33m:\u001B[0m\u001B[1;33m\u001B[0m\u001B[1;33m\u001B[0m\u001B[0m\n\u001B[1;32m--> 566\u001B[1;33m             \u001B[0mX\u001B[0m \u001B[1;33m=\u001B[0m \u001B[0mcheck_array\u001B[0m\u001B[1;33m(\u001B[0m\u001B[0mX\u001B[0m\u001B[1;33m,\u001B[0m \u001B[1;33m**\u001B[0m\u001B[0mcheck_params\u001B[0m\u001B[1;33m)\u001B[0m\u001B[1;33m\u001B[0m\u001B[1;33m\u001B[0m\u001B[0m\n\u001B[0m\u001B[0;32m    567\u001B[0m             \u001B[0mout\u001B[0m \u001B[1;33m=\u001B[0m \u001B[0mX\u001B[0m\u001B[1;33m\u001B[0m\u001B[1;33m\u001B[0m\u001B[0m\n\u001B[0;32m    568\u001B[0m         \u001B[1;32melif\u001B[0m \u001B[0mno_val_X\u001B[0m \u001B[1;32mand\u001B[0m \u001B[1;32mnot\u001B[0m \u001B[0mno_val_y\u001B[0m\u001B[1;33m:\u001B[0m\u001B[1;33m\u001B[0m\u001B[1;33m\u001B[0m\u001B[0m\n",
      "\u001B[1;32m~\\anaconda3\\envs\\iml.env\\lib\\site-packages\\sklearn\\utils\\validation.py\u001B[0m in \u001B[0;36mcheck_array\u001B[1;34m(array, accept_sparse, accept_large_sparse, dtype, order, copy, force_all_finite, ensure_2d, allow_nd, ensure_min_samples, ensure_min_features, estimator)\u001B[0m\n\u001B[0;32m    744\u001B[0m                     \u001B[0marray\u001B[0m \u001B[1;33m=\u001B[0m \u001B[0marray\u001B[0m\u001B[1;33m.\u001B[0m\u001B[0mastype\u001B[0m\u001B[1;33m(\u001B[0m\u001B[0mdtype\u001B[0m\u001B[1;33m,\u001B[0m \u001B[0mcasting\u001B[0m\u001B[1;33m=\u001B[0m\u001B[1;34m\"unsafe\"\u001B[0m\u001B[1;33m,\u001B[0m \u001B[0mcopy\u001B[0m\u001B[1;33m=\u001B[0m\u001B[1;32mFalse\u001B[0m\u001B[1;33m)\u001B[0m\u001B[1;33m\u001B[0m\u001B[1;33m\u001B[0m\u001B[0m\n\u001B[0;32m    745\u001B[0m                 \u001B[1;32melse\u001B[0m\u001B[1;33m:\u001B[0m\u001B[1;33m\u001B[0m\u001B[1;33m\u001B[0m\u001B[0m\n\u001B[1;32m--> 746\u001B[1;33m                     \u001B[0marray\u001B[0m \u001B[1;33m=\u001B[0m \u001B[0mnp\u001B[0m\u001B[1;33m.\u001B[0m\u001B[0masarray\u001B[0m\u001B[1;33m(\u001B[0m\u001B[0marray\u001B[0m\u001B[1;33m,\u001B[0m \u001B[0morder\u001B[0m\u001B[1;33m=\u001B[0m\u001B[0morder\u001B[0m\u001B[1;33m,\u001B[0m \u001B[0mdtype\u001B[0m\u001B[1;33m=\u001B[0m\u001B[0mdtype\u001B[0m\u001B[1;33m)\u001B[0m\u001B[1;33m\u001B[0m\u001B[1;33m\u001B[0m\u001B[0m\n\u001B[0m\u001B[0;32m    747\u001B[0m             \u001B[1;32mexcept\u001B[0m \u001B[0mComplexWarning\u001B[0m \u001B[1;32mas\u001B[0m \u001B[0mcomplex_warning\u001B[0m\u001B[1;33m:\u001B[0m\u001B[1;33m\u001B[0m\u001B[1;33m\u001B[0m\u001B[0m\n\u001B[0;32m    748\u001B[0m                 raise ValueError(\n",
      "\u001B[1;32m~\\anaconda3\\envs\\iml.env\\lib\\site-packages\\pandas\\core\\generic.py\u001B[0m in \u001B[0;36m__array__\u001B[1;34m(self, dtype)\u001B[0m\n\u001B[0;32m   1991\u001B[0m \u001B[1;33m\u001B[0m\u001B[0m\n\u001B[0;32m   1992\u001B[0m     \u001B[1;32mdef\u001B[0m \u001B[0m__array__\u001B[0m\u001B[1;33m(\u001B[0m\u001B[0mself\u001B[0m\u001B[1;33m,\u001B[0m \u001B[0mdtype\u001B[0m\u001B[1;33m:\u001B[0m \u001B[0mNpDtype\u001B[0m \u001B[1;33m|\u001B[0m \u001B[1;32mNone\u001B[0m \u001B[1;33m=\u001B[0m \u001B[1;32mNone\u001B[0m\u001B[1;33m)\u001B[0m \u001B[1;33m->\u001B[0m \u001B[0mnp\u001B[0m\u001B[1;33m.\u001B[0m\u001B[0mndarray\u001B[0m\u001B[1;33m:\u001B[0m\u001B[1;33m\u001B[0m\u001B[1;33m\u001B[0m\u001B[0m\n\u001B[1;32m-> 1993\u001B[1;33m         \u001B[1;32mreturn\u001B[0m \u001B[0mnp\u001B[0m\u001B[1;33m.\u001B[0m\u001B[0masarray\u001B[0m\u001B[1;33m(\u001B[0m\u001B[0mself\u001B[0m\u001B[1;33m.\u001B[0m\u001B[0m_values\u001B[0m\u001B[1;33m,\u001B[0m \u001B[0mdtype\u001B[0m\u001B[1;33m=\u001B[0m\u001B[0mdtype\u001B[0m\u001B[1;33m)\u001B[0m\u001B[1;33m\u001B[0m\u001B[1;33m\u001B[0m\u001B[0m\n\u001B[0m\u001B[0;32m   1994\u001B[0m \u001B[1;33m\u001B[0m\u001B[0m\n\u001B[0;32m   1995\u001B[0m     def __array_wrap__(\n",
      "\u001B[1;31mValueError\u001B[0m: could not convert string to float: '2017-10-21 19:26:00'"
     ]
    }
   ],
   "source": [
    "from sklearn.decomposition import PCA\n",
    "from sklearn.preprocessing import StandardScaler\n",
    "numerical_cols = X.select_dtypes(include=['float64', 'int64']).columns\n",
    "\n",
    "# Standardize the numerical columns\n",
    "scaler = StandardScaler()\n",
    "X[numerical_cols] = scaler.fit_transform(X[numerical_cols])\n",
    "pca = PCA(n_components=2)  # Choose the number of components for visualization (e.g., 2 for a 2D plot)\n",
    "X_pca = pca.fit_transform(X_train)"
   ],
   "metadata": {
    "collapsed": false
   }
  },
  {
   "cell_type": "code",
   "execution_count": 66,
   "outputs": [],
   "source": [
    "df_pca = pd.DataFrame(data=X_pca, columns=['PC1', 'PC2'])\n",
    "df_pca['cancellation_datetime'] = y_train  # Add the target variable to the DataFrame"
   ],
   "metadata": {
    "collapsed": false
   }
  },
  {
   "cell_type": "code",
   "execution_count": 67,
   "outputs": [],
   "source": [
    "plt.figure(figsize=(8, 6))\n",
    "targets = df_pca['cancellation_datetime'].unique()\n",
    "colors = ['r', 'g', 'b']  # Specify colors for each unique target class\n",
    "for target, color in zip(targets, colors):\n",
    "    indices = df_pca['cancellation_datetime'] == target\n",
    "    plt.scatter(df_pca.loc[indices, 'PC1'], df_pca.loc[indices, 'PC2'], c=color, label=target)\n",
    "plt.xlabel('Principal Component 1')\n",
    "plt.ylabel('Principal Component 2')\n",
    "plt.legend()\n",
    "plt.show()"
   ],
   "metadata": {
    "collapsed": false
   }
  }
 ],
 "metadata": {
  "kernelspec": {
   "display_name": "Python 3",
   "language": "python",
   "name": "python3"
  },
  "language_info": {
   "codemirror_mode": {
    "name": "ipython",
    "version": 2
   },
   "file_extension": ".py",
   "mimetype": "text/x-python",
   "name": "python",
   "nbconvert_exporter": "python",
   "pygments_lexer": "ipython2",
   "version": "2.7.6"
  }
 },
 "nbformat": 4,
 "nbformat_minor": 0
}
